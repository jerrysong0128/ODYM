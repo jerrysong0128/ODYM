{
 "cells": [
  {
   "cell_type": "markdown",
   "metadata": {},
   "source": [
    "# ODYM Example no. 6. MaTrace - Tracing material flows through different product lifecycles\n",
    "\n",
    "Industrial ecology knows different system perspectives. Material cycles, product environmental footprints, and product life cycles are ways to explore the connections and interrelation in the industrial system and beyond. Another perspective that is relevant for the study of material cycles is the tracking of materials through different product lifecycles, answering research questions like:\n",
    "\n",
    "+ What is the average number of product life cycles and the average lifetime of a unit of material consumed?\n",
    "+ How big is the contamination of tramp elements in bulk materials over time? \n",
    "+ Where does the material consumed today ultimately end up under different waste management scenarios?\n",
    "\n",
    "To answer these and similar questions, one needs to view material cycles as absorbing Markov Chains (Eckelman and Daigo, 2008, DOI: 10.1016/j.ecolecon.2008.05.020), where material stocks decay over time, and are partly recycled or lost to different types of waste. In the standard setting of dynamic material flow analysis, the use phase is a dynamic stock model with a lifetime distribution and the other material cycle industries are modeled as linear processes with an instantaneous response. For such a setting, the absorbing Markov Chain can be implemented as combination of a dynamic stock model and a matrix equation to solve the rest of the system, and this combination is called MaTrace model (Nakamura et al., 2014, DOI: 10.1021/es500820h) \n",
    "\n",
    "MaTrace has been applied to cover multiple regions (Pauliuk et al., 2017, DOI: 10.1016/j.resconrec.2016.09.029) and chemical elements at once (Nakamura et al., 2017, DOI: 10.1021/acs.est.7b01683). \n",
    "\n",
    "Here, we present a basic implementation of the MaTrace model in Python, using the ODYM framework for dynamic MFA. This model has some overhead regarding data formatting and model initialisation but has the advantage of that it uses tested routines and can be adapted to other cases, including multi-regional questions. The research questions for this ODYM tutorial are:\n",
    "+ \"How is automotive steel consumed currently (2020) dispersed into other applications over time?\"\n",
    "+ \"What is the half-life of automotive steel in the technosphere under current waste handling conditions?\"\n",
    "\n",
    "To answer these questions the system definition is chosen as in the figure below. This figure was adapted from a recent multi-regional study applying MaTrace (Pauliuk et al., 2017, DOI: 10.1016/j.resconrec.2016.09.029) but here, only one global region is considered. The single chemical element covered is iron. The re-use flow F_2_8 as well as obsolete stock formation F_1_1a are not considered here.\n",
    "\n",
    "<img src=\"Images/ODYM_MaTrace_Tutorial.png\" width=\"1000\" height=\"1000\" alt=\"MaTrace system definition\">\n",
    "\n",
    "Here, we will use the multi-element and dynamic stock modelling capabilities of ODYM to address the problem of steel dispersion in the technosphere. Other related issues such as the copper contamination of steel scrap over time, which was recently addressed in a publication by Daehn et al. 2017, DOI 10.1021/acs.est.7b00997, or the fate of steel alloying elements (Nakamura et al., 2017, DOI: 10.1021/acs.est.7b01683), can be studied by extending the current model and database to cover different chemical elements.  \n",
    "\n",
    "ODYM includes the Python class dynamic_stock_modelling for handling the inflow-driven and stock driven model of in-use stocks (http://www.teaching.industrialecology.uni-freiburg.de/  Methods section 3), and the former is applied here and combined with a matrix equation.\n",
    "\n",
    "### ODYM model structure\n",
    "The processes and system variables included are shown in the system definition. We consider the following model aspects for this model:\n",
    "\n",
    "Time: t, 2020-2300\n",
    "Age-cohort: c, 2020-2300\n",
    "Element: e, Fe\n",
    "Unity: 1 (mandatory for all ODYM models but not needed here)\n",
    "Region: r, Global\n",
    "Engineering materials: m: Construction grade steel and Automotive steel\n",
    "Good: g, vehicles, machinery, construction, products and other\n",
    "Waste_Scrap: w, \"Heavy melt, plate, and structural steel scrap\" and \"Steel shred\"\n",
    "Scenario: S, BAU and Efficient\n",
    "\n",
    "Here, only BAU results are calculated but the script can be modified to generate other than the default results.\n",
    "\n",
    "### Dynamic stock model for the use phase\n",
    "Stocks S and outflow O are calculated from apparent final consumption i(t), which is obtained from statistics, cf. DOI 10.1016/j.resconrec.2012.11.008 \n",
    "\n",
    "The model equations are as follows:\n",
    "\n",
    "First, we compute the outflow o_c(t,c) of each historic inflow/age-cohort i(c) in year t as\n",
    "\n",
    "$$o\\_c(t,c) = i(c) \\cdot sf(t,c) $$\n",
    "\n",
    "where sf is the survival function of the age cohort, which is 1-cdf (https://en.wikipedia.org/wiki/Survival_function).\n",
    "\n",
    "The total outflow o(t) in a given year is then\n",
    "\n",
    "$$ o(t) = \\sum_{c\\leq t} o\\_c(t,c)$$\n",
    "\n",
    "The mass balance leads to the stock change $dS$:\n",
    "\n",
    "$$ dS(t) = i(t) - o(t)$$\n",
    "\n",
    "And the stock finally is computed as\n",
    "\n",
    "$$ S(t) = \\sum_{t'\\leq t} ds(t') $$ \n",
    "\n",
    "For the system definition above, we have $i=F_{8\\_1}$, $o = F_{1\\_2}$, and $S = S_{1}$.\n",
    "\n",
    "### Solving the recycling loop\n",
    "A special feature of MaTrace is that its model setup is simple enough that the recycling loop can be solved using a matrix equation despite of the several dimensions present. The crucial assumption for this simplification to work is that for any steel consumption in a given year, there is no outflow in that year, only in the years thereafter. In other words, for the first year of the product lifetime (year 0 in Python counting), there is no decay of stock, and the survival function is 1: SF(age=0) =1. That assumption is unproblematic for long-lived products such as buildings or machinery but does not hold for short-lived applications of steel such as packaging. If the share of packaging and other short-lived application in the overall model flows is significant, the model needs to be changed. Instead of solving the model differently, one can just switch the time interval from 1 year to 1 month or 1 week and rescale the flows accordingly.\n",
    "\n",
    "First, we list the defining equations for the parameters, $\\Gamma(gmw)$ (ODYM_Tutorial6_EoLRecoveryRate), $\\Lambda(gmw)$ (ODYM_Tutorial6_FabricationYieldLoss), $\\Theta(wm)$ (ODYM_Tutorial6_RemeltingYield) and $D(mg)$ (ODYM_Tutorial6_SectorSplit).\n",
    "\n",
    "$$ F_{3\\_4}(twe)=\\sum_{cgm} \\Gamma (gmw) \\cdot F_{2\\_3}(tcgme) $$\n",
    "\n",
    "$$ F_{5\\_6}(tme)=\\sum_{w} \\Theta (wm) \\cdot F_{4\\_5}(twe) $$\n",
    "\n",
    "$$ F_{6\\_7}(tgme)= D (mg) \\cdot F_{5\\_6}(tme) $$\n",
    "\n",
    "$$ F_{7\\_4}(twe)=\\sum_{gm} \\Lambda (gmw) \\cdot F_{6\\_7}(tgme) $$\n",
    "\n",
    "Solving these equations takes a little effort because the fabrication scrap $F_{7\\_4}$ is part of $F_{4\\_5}$:\n",
    "\n",
    "$$F_{4\\_5} = F_{3\\_4} + F_{7\\_4}$$\n",
    "\n",
    "Inserting all parameter definition equations above into the mass balance equation of process 4 leads to the following equation: (The following equation will be solved year-by-year, so that the index t is omitted.)\n",
    "\n",
    "$$ F_{7\\_4}(We) = \\sum_{gmw} \\Lambda (gmW) \\cdot D (mg) \\cdot \\Theta (wm) \\cdot ( F_{3\\_4}(we) + F_{7\\_4}(we)) $$\n",
    "\n",
    "This equation can be solved for $F_{7\\_4}$, where $I$ is the unit matrix, and W,w,m,g,e are indices:\n",
    "\n",
    "$$ \\sum_{w} I(Ww) \\cdot F_{7\\_4}(we) = \\sum_{gmw} \\Lambda (gmW) \\cdot D (mg) \\cdot \\Theta (wm) \\cdot ( F_{3\\_4}(we) + F_{7\\_4}(we)) $$\n",
    "\n",
    "$$ F_{7\\_4}(we) = (I-\\sum_{gm}\\Lambda \\cdot D \\cdot \\Theta)^{-1}(Ww)\\cdot (\\sum_{gm}\\Lambda \\cdot D \\cdot \\Theta)(Ww')\\cdot  F_{3\\_4}(w'e)$$\n",
    "\n",
    "\n",
    "From the equation above, the other variables can now be determined step by step, using the parameter definition equations.\n",
    "\n",
    "With these explanations, we can start with the procedure:\n",
    "\n",
    "## 1) Load ODYM\n"
   ]
  },
  {
   "cell_type": "code",
   "execution_count": 37,
   "metadata": {},
   "outputs": [],
   "source": [
    "# Load a local copy of the current ODYM branch:\n",
    "import sys\n",
    "import os\n",
    "import numpy as np\n",
    "import pandas as pd\n",
    "import matplotlib.pyplot as plt\n",
    "import pickle\n",
    "import openpyxl\n",
    "import pylab\n",
    "from copy import deepcopy\n",
    "import logging as log\n",
    "from tqdm import tqdm\n",
    "\n",
    "# For Ipython Notebook only\n",
    "%matplotlib inline\n",
    "\n",
    "# add ODYM module directory to system path, relative\n",
    "MainPath = os.path.join('..', 'odym', 'modules')\n",
    "sys.path.insert(0, MainPath)\n",
    "\n",
    "# add ODYM module directory to system path, absolute\n",
    "sys.path.insert(0, os.path.join(os.getcwd(),'..', 'odym', 'modules'))\n",
    "\n",
    "# Specify path to dynamic stock model and to datafile, relative\n",
    "DataPath = os.path.join('..', 'docs', 'files')\n",
    "\n",
    "# Specify path to dynamic stock model and to datafile, absolute\n",
    "DataPath = os.path.join(os.getcwd(),'..', 'docs', 'files')\n",
    "\n",
    "import ODYM_Classes as msc # import the ODYM class file\n",
    "import ODYM_Functions as msf # import the ODYM function file\n",
    "import dynamic_stock_model as dsm # import the dynamic stock model library\n",
    "\n",
    "# Initialize loggin routine\n",
    "log_verbosity = eval(\"log.DEBUG\")\n",
    "log_filename  = 'LogFileTest.md'\n",
    "[Mylog, console_log, file_log] = msf.function_logger(log_filename, os.getcwd(),\n",
    "                                                     log_verbosity, log_verbosity)\n"
   ]
  },
  {
   "cell_type": "markdown",
   "metadata": {},
   "source": [
    "## 2) Load system classification, index table, and data \n",
    "With the model imported, we cannow set up the system definition. The 'classical' elements of the system definition in MFA include: The processes, flows, and stocks, the material, the region, and the time frame studied. Next to these elements, ODYM features/requires the following elements to be specified:\n",
    "+ The list of chemical elements considered (Fe in this case)\n",
    "+ The classification(s) of the system variables (stocks and flows): Which materials, products, regions, or waste groups are considered? \n",
    "+ An index letter to quickly/directly access a model aspect.\n",
    "+ A dictionary of model parameters.\n",
    "\n",
    "For all these items ODYM has a specific structure, which are coded in the model config file ODYM_Config_Tutorial6.xlsx and read using a set of customized functions."
   ]
  },
  {
   "cell_type": "code",
   "execution_count": 38,
   "metadata": {},
   "outputs": [
    {
     "name": "stderr",
     "output_type": "stream",
     "text": [
      "INFO (1892936247.py <<module>>): Read and parse config table, including the model index table, from model config sheet.\n",
      "INFO (ODYM_Functions.py <ParseConfigFile>): Read parameter list from model config sheet.\n",
      "INFO (ODYM_Functions.py <ParseConfigFile>): Read process list from model config sheet.\n",
      "INFO (ODYM_Functions.py <ParseConfigFile>): Read model run control from model config sheet.\n",
      "INFO (ODYM_Functions.py <ParseConfigFile>): Read model output control from model config sheet.\n"
     ]
    },
    {
     "name": "stdout",
     "output_type": "stream",
     "text": [
      "ODYM_Tutorial6_MaTrace\n"
     ]
    }
   ],
   "source": [
    "#Read main script parameters\n",
    "#Load project-specific config file\n",
    "ProjectSpecs_ConFile = 'ODYM_Config_Tutorial6.xlsx'\n",
    "Model_Configfile     = openpyxl.load_workbook(os.path.join(DataPath, ProjectSpecs_ConFile), data_only=True)\n",
    "ScriptConfig         = {'Model Setting': Model_Configfile['Config'].cell(4,4).value} # Dictionary with config parameters\n",
    "Model_Configsheet    = Model_Configfile['Setting_' + ScriptConfig['Model Setting']]\n",
    "\n",
    "Name_Scenario        = Model_Configsheet.cell(4,4).value\n",
    "print(Name_Scenario)\n",
    "\n",
    "#Read control and selection parameters into dictionary\n",
    "ScriptConfig         = msf.ParseModelControl(Model_Configsheet,ScriptConfig)\n",
    "\n",
    "Mylog.info('Read and parse config table, including the model index table, from model config sheet.')\n",
    "IT_Aspects,IT_Description,IT_Dimension,IT_Classification,IT_Selector,IT_IndexLetter,\\\n",
    "PL_Names,PL_Description,PL_Version,PL_IndexStructure,PL_IndexMatch,PL_IndexLayer,PL_SubFolder,PL_ProxyCode,\\\n",
    "PrL_Number,PrL_Name,PrL_Comment,PrL_Type,ScriptConfig = msf.ParseConfigFile(Model_Configsheet,ScriptConfig,Mylog)    \n",
    "\n",
    "class_filename       = 'ODYM_Classifications_Master_Tutorial6_MaTrace.xlsx'\n",
    "Classfile            = openpyxl.load_workbook(os.path.join(DataPath,class_filename), data_only=True)\n",
    "Classsheet           = Classfile['MAIN_Table']\n",
    "MasterClassification = msf.ParseClassificationFile_Main(Classsheet,Mylog)\n"
   ]
  },
  {
   "cell_type": "markdown",
   "metadata": {},
   "source": [
    "With the code below, the model classifications are created from the info read with msf.ParseClassificationFile_Main.\n",
    "The index table is created with the info read with msf.ParseConfigFile(Model_Configsheet,ScriptConfig,Mylog) ."
   ]
  },
  {
   "cell_type": "code",
   "execution_count": 39,
   "metadata": {},
   "outputs": [
    {
     "name": "stderr",
     "output_type": "stream",
     "text": [
      "INFO (3620152477.py <<module>>): Define model classifications and select items for model classifications according to information provided by config file.\n",
      "INFO (3620152477.py <<module>>): ### 2.2 - Define model index table and parameter dictionary\n",
      "INFO (3620152477.py <<module>>): Define index table dataframe.\n"
     ]
    }
   ],
   "source": [
    "Mylog.info('Define model classifications and select items for model classifications according to information provided by config file.')\n",
    "ModelClassification  = {} # Dict of model classifications\n",
    "for m in range(0,len(IT_Aspects)):\n",
    "    ModelClassification[IT_Aspects[m]] = deepcopy(MasterClassification[IT_Classification[m]])\n",
    "    EvalString = msf.EvalItemSelectString(IT_Selector[m],len(ModelClassification[IT_Aspects[m]].Items))\n",
    "    if EvalString.find(':') > -1: # range of items is taken\n",
    "        RangeStart = int(EvalString[0:EvalString.find(':')])\n",
    "        RangeStop  = int(EvalString[EvalString.find(':')+1::])\n",
    "        ModelClassification[IT_Aspects[m]].Items = ModelClassification[IT_Aspects[m]].Items[RangeStart:RangeStop]           \n",
    "    elif EvalString.find('[') > -1: # selected items are taken\n",
    "        ModelClassification[IT_Aspects[m]].Items = [ModelClassification[IT_Aspects[m]].Items[i] for i in eval(EvalString)]\n",
    "    elif EvalString == 'all':\n",
    "        None\n",
    "    else:\n",
    "        Mylog.error('Item select error for aspect ' + IT_Aspects[m] + ' were found in datafile.')\n",
    "        break\n",
    "\n",
    "# Define model index table and parameter dictionary\n",
    "Mylog.info('### 2.2 - Define model index table and parameter dictionary')\n",
    "Model_Time_Start = int(min(ModelClassification['Time'].Items))\n",
    "Model_Time_End   = int(max(ModelClassification['Time'].Items))\n",
    "Model_Duration   = Model_Time_End - Model_Time_Start + 1\n",
    "\n",
    "Mylog.info('Define index table dataframe.')\n",
    "IndexTable = pd.DataFrame({'Aspect'        : IT_Aspects,  # 'Time' and 'Element' must be present!\n",
    "                           'Description'   : IT_Description,\n",
    "                           'Dimension'     : IT_Dimension,\n",
    "                           'Classification': [ModelClassification[Aspect] for Aspect in IT_Aspects],\n",
    "                           'IndexLetter'   : IT_IndexLetter})  # Unique one letter (upper or lower case) indices to be used later for calculations.\n",
    "\n",
    "# Default indexing of IndexTable, other indices are produced on the fly\n",
    "IndexTable.set_index('Aspect', inplace=True)\n",
    "\n",
    "# Add indexSize to IndexTable:\n",
    "IndexTable['IndexSize'] = pd.Series([len(IndexTable.Classification[i].Items) for i in range(0, len(IndexTable.IndexLetter))],\n",
    "                                    index=IndexTable.index)\n",
    "\n",
    "# list of the classifications used for each indexletter\n",
    "IndexTable_ClassificationNames = [IndexTable.Classification[i].Name for i in range(0, len(IndexTable.IndexLetter))]"
   ]
  },
  {
   "cell_type": "markdown",
   "metadata": {},
   "source": [
    "That dictionary of classifications enters the index table defined for the system. The index table lists all aspects needed and assigns a classification and index letter to each aspect."
   ]
  },
  {
   "cell_type": "code",
   "execution_count": 40,
   "metadata": {},
   "outputs": [
    {
     "data": {
      "text/html": [
       "<div>\n",
       "<style scoped>\n",
       "    .dataframe tbody tr th:only-of-type {\n",
       "        vertical-align: middle;\n",
       "    }\n",
       "\n",
       "    .dataframe tbody tr th {\n",
       "        vertical-align: top;\n",
       "    }\n",
       "\n",
       "    .dataframe thead th {\n",
       "        text-align: right;\n",
       "    }\n",
       "</style>\n",
       "<table border=\"1\" class=\"dataframe\">\n",
       "  <thead>\n",
       "    <tr style=\"text-align: right;\">\n",
       "      <th></th>\n",
       "      <th>Description</th>\n",
       "      <th>Dimension</th>\n",
       "      <th>Classification</th>\n",
       "      <th>IndexLetter</th>\n",
       "      <th>IndexSize</th>\n",
       "    </tr>\n",
       "    <tr>\n",
       "      <th>Aspect</th>\n",
       "      <th></th>\n",
       "      <th></th>\n",
       "      <th></th>\n",
       "      <th></th>\n",
       "      <th></th>\n",
       "    </tr>\n",
       "  </thead>\n",
       "  <tbody>\n",
       "    <tr>\n",
       "      <th>Time</th>\n",
       "      <td>Model time</td>\n",
       "      <td>Time</td>\n",
       "      <td>&lt;ODYM_Classes.Classification object at 0x00000...</td>\n",
       "      <td>t</td>\n",
       "      <td>282</td>\n",
       "    </tr>\n",
       "    <tr>\n",
       "      <th>Age-cohort</th>\n",
       "      <td>Age-cohorts, vintages</td>\n",
       "      <td>Time</td>\n",
       "      <td>&lt;ODYM_Classes.Classification object at 0x00000...</td>\n",
       "      <td>c</td>\n",
       "      <td>282</td>\n",
       "    </tr>\n",
       "    <tr>\n",
       "      <th>Element</th>\n",
       "      <td>chemical elements</td>\n",
       "      <td>Element</td>\n",
       "      <td>&lt;ODYM_Classes.Classification object at 0x00000...</td>\n",
       "      <td>e</td>\n",
       "      <td>1</td>\n",
       "    </tr>\n",
       "    <tr>\n",
       "      <th>Unity</th>\n",
       "      <td>trivial classification, 1 entry only</td>\n",
       "      <td>Unity</td>\n",
       "      <td>&lt;ODYM_Classes.Classification object at 0x00000...</td>\n",
       "      <td>1</td>\n",
       "      <td>1</td>\n",
       "    </tr>\n",
       "    <tr>\n",
       "      <th>Region</th>\n",
       "      <td>Regions used</td>\n",
       "      <td>Region</td>\n",
       "      <td>&lt;ODYM_Classes.Classification object at 0x00000...</td>\n",
       "      <td>r</td>\n",
       "      <td>11</td>\n",
       "    </tr>\n",
       "    <tr>\n",
       "      <th>Engineering materials</th>\n",
       "      <td>Engineering materials considered</td>\n",
       "      <td>Material</td>\n",
       "      <td>&lt;ODYM_Classes.Classification object at 0x00000...</td>\n",
       "      <td>m</td>\n",
       "      <td>2</td>\n",
       "    </tr>\n",
       "    <tr>\n",
       "      <th>Good</th>\n",
       "      <td>Goods and products considered</td>\n",
       "      <td>Material</td>\n",
       "      <td>&lt;ODYM_Classes.Classification object at 0x00000...</td>\n",
       "      <td>g</td>\n",
       "      <td>4</td>\n",
       "    </tr>\n",
       "    <tr>\n",
       "      <th>Waste_Scrap</th>\n",
       "      <td>waste and scrap types considered</td>\n",
       "      <td>Material</td>\n",
       "      <td>&lt;ODYM_Classes.Classification object at 0x00000...</td>\n",
       "      <td>w</td>\n",
       "      <td>2</td>\n",
       "    </tr>\n",
       "    <tr>\n",
       "      <th>Scenario</th>\n",
       "      <td>Scenarios considered</td>\n",
       "      <td>Scenario</td>\n",
       "      <td>&lt;ODYM_Classes.Classification object at 0x00000...</td>\n",
       "      <td>S</td>\n",
       "      <td>2</td>\n",
       "    </tr>\n",
       "  </tbody>\n",
       "</table>\n",
       "</div>"
      ],
      "text/plain": [
       "                                                Description Dimension  \\\n",
       "Aspect                                                                  \n",
       "Time                                             Model time      Time   \n",
       "Age-cohort                            Age-cohorts, vintages      Time   \n",
       "Element                                   chemical elements   Element   \n",
       "Unity                  trivial classification, 1 entry only     Unity   \n",
       "Region                                         Regions used    Region   \n",
       "Engineering materials      Engineering materials considered  Material   \n",
       "Good                          Goods and products considered  Material   \n",
       "Waste_Scrap                waste and scrap types considered  Material   \n",
       "Scenario                               Scenarios considered  Scenario   \n",
       "\n",
       "                                                          Classification  \\\n",
       "Aspect                                                                     \n",
       "Time                   <ODYM_Classes.Classification object at 0x00000...   \n",
       "Age-cohort             <ODYM_Classes.Classification object at 0x00000...   \n",
       "Element                <ODYM_Classes.Classification object at 0x00000...   \n",
       "Unity                  <ODYM_Classes.Classification object at 0x00000...   \n",
       "Region                 <ODYM_Classes.Classification object at 0x00000...   \n",
       "Engineering materials  <ODYM_Classes.Classification object at 0x00000...   \n",
       "Good                   <ODYM_Classes.Classification object at 0x00000...   \n",
       "Waste_Scrap            <ODYM_Classes.Classification object at 0x00000...   \n",
       "Scenario               <ODYM_Classes.Classification object at 0x00000...   \n",
       "\n",
       "                      IndexLetter  IndexSize  \n",
       "Aspect                                        \n",
       "Time                            t        282  \n",
       "Age-cohort                      c        282  \n",
       "Element                         e          1  \n",
       "Unity                           1          1  \n",
       "Region                          r         11  \n",
       "Engineering materials           m          2  \n",
       "Good                            g          4  \n",
       "Waste_Scrap                     w          2  \n",
       "Scenario                        S          2  "
      ]
     },
     "execution_count": 40,
     "metadata": {},
     "output_type": "execute_result"
    }
   ],
   "source": [
    "IndexTable"
   ]
  },
  {
   "cell_type": "code",
   "execution_count": 41,
   "metadata": {},
   "outputs": [],
   "source": [
    "# Define dimension sizes\n",
    "Nt = len(IndexTable.Classification[IndexTable.index.get_loc('Time')].Items)\n",
    "Ne = len(IndexTable.Classification[IndexTable.index.get_loc('Element')].Items)\n",
    "Nc = len(IndexTable.Classification[IndexTable.index.get_loc('Age-cohort')].Items)\n",
    "Ng = len(IndexTable.Classification[IndexTable.index.get_loc('Good')].Items)\n",
    "Nm = len(IndexTable.Classification[IndexTable.index.get_loc('Engineering materials')].Items)\n",
    "Nw = len(IndexTable.Classification[IndexTable.index.get_loc('Waste_Scrap')].Items)"
   ]
  },
  {
   "cell_type": "markdown",
   "metadata": {},
   "source": [
    "With the index table in place, the model parameters can now be read. Note that the parameter ODYM_Tutorial6_SteelConsumption contains steel consumption data for all years from 1700-2100, but here, only the 2020 scenario value for automotive steel is used to answer the research question."
   ]
  },
  {
   "cell_type": "code",
   "execution_count": 42,
   "metadata": {},
   "outputs": [
    {
     "name": "stderr",
     "output_type": "stream",
     "text": [
      "INFO (3100285617.py <<module>>): Reading parameter ODYM_Tutorial6_Lifetime\n",
      "INFO (ODYM_Functions.py <ReadParameterXLSX>): A total of 4 values was read from file for parameter ODYM_Tutorial6_Lifetime.\n",
      "INFO (ODYM_Functions.py <ReadParameterXLSX>): 4.0 of 4 values for parameter ODYM_Tutorial6_Lifetime were assigned.\n",
      "INFO (3100285617.py <<module>>): Current parameter file UUID: 1ad185e8-af42-4ee1-8cc5-2215081de35c\n",
      "INFO (3100285617.py <<module>>): _\n",
      "INFO (3100285617.py <<module>>): Reading parameter ODYM_Tutorial6_SteelConsumption\n"
     ]
    },
    {
     "name": "stdout",
     "output_type": "stream",
     "text": [
      "LIST\n",
      "TABLE\n"
     ]
    },
    {
     "name": "stderr",
     "output_type": "stream",
     "text": [
      "INFO (ODYM_Functions.py <ReadParameterXLSX>): A total of 3208 values was read from file for parameter ODYM_Tutorial6_SteelConsumption.\n",
      "INFO (ODYM_Functions.py <ReadParameterXLSX>): 648.0 of 4512 values for parameter ODYM_Tutorial6_SteelConsumption were assigned.\n",
      "INFO (3100285617.py <<module>>): Current parameter file UUID: 6738f872-8ec9-4ba5-986b-6da947f03289\n",
      "INFO (3100285617.py <<module>>): _\n",
      "INFO (3100285617.py <<module>>): Reading parameter ODYM_Tutorial6_EoLRecoveryRate\n",
      "INFO (ODYM_Functions.py <ReadParameterXLSX>): A total of 8 values was read from file for parameter ODYM_Tutorial6_EoLRecoveryRate.\n",
      "INFO (ODYM_Functions.py <ReadParameterXLSX>): 8.0 of 32 values for parameter ODYM_Tutorial6_EoLRecoveryRate were assigned.\n",
      "INFO (3100285617.py <<module>>): Current parameter file UUID: 6213e899-8367-483a-8d09-a0c0831c22e5\n",
      "INFO (3100285617.py <<module>>): _\n",
      "INFO (3100285617.py <<module>>): Reading parameter ODYM_Tutorial6_FabricationYieldLoss\n",
      "INFO (ODYM_Functions.py <ReadParameterXLSX>): A total of 8 values was read from file for parameter ODYM_Tutorial6_FabricationYieldLoss.\n",
      "INFO (ODYM_Functions.py <ReadParameterXLSX>): 8.0 of 32 values for parameter ODYM_Tutorial6_FabricationYieldLoss were assigned.\n",
      "INFO (3100285617.py <<module>>): Current parameter file UUID: 03175789-dfcb-4448-99b1-1c467b65b3ed\n",
      "INFO (3100285617.py <<module>>): _\n",
      "INFO (3100285617.py <<module>>): Reading parameter ODYM_Tutorial6_RemeltingYield\n",
      "INFO (ODYM_Functions.py <ReadParameterXLSX>): A total of 4 values was read from file for parameter ODYM_Tutorial6_RemeltingYield.\n",
      "INFO (ODYM_Functions.py <ReadParameterXLSX>): 4.0 of 8 values for parameter ODYM_Tutorial6_RemeltingYield were assigned.\n",
      "INFO (3100285617.py <<module>>): Current parameter file UUID: 38ed7154-01c2-4d21-8128-df10bbd150a5\n",
      "INFO (3100285617.py <<module>>): _\n",
      "INFO (3100285617.py <<module>>): Reading parameter ODYM_Tutorial6_SectorSplit\n",
      "INFO (ODYM_Functions.py <ReadParameterXLSX>): A total of 16 values was read from file for parameter ODYM_Tutorial6_SectorSplit.\n",
      "INFO (ODYM_Functions.py <ReadParameterXLSX>): 16.0 of 16 values for parameter ODYM_Tutorial6_SectorSplit were assigned.\n",
      "INFO (3100285617.py <<module>>): Current parameter file UUID: a3e33053-ab7a-4979-be82-d14c6e5eecef\n",
      "INFO (3100285617.py <<module>>): _\n",
      "INFO (3100285617.py <<module>>): Reading of parameters finished.\n"
     ]
    },
    {
     "name": "stdout",
     "output_type": "stream",
     "text": [
      "LIST\n",
      "LIST\n",
      "LIST\n",
      "LIST\n"
     ]
    }
   ],
   "source": [
    "ParameterDict = {}\n",
    "mo_start = 0 # set mo for re-reading a certain parameter\n",
    "for mo in range(mo_start,len(PL_Names)):\n",
    "    #ParPath = os.path.join(os.path.abspath(os.path.join(ProjectSpecs_Path_Main, '.')), 'ODYM_RECC_Database', PL_Version[mo])\n",
    "    ParPath = os.path.join(DataPath, PL_Names[mo] + '_' + PL_Version[mo])\n",
    "    Mylog.info('Reading parameter ' + PL_Names[mo])\n",
    "    # Do not change order of parameters handed over to function!\n",
    "    MetaData, Values = msf.ReadParameterXLSX(ParPath, PL_Names[mo], PL_IndexStructure[mo], PL_IndexMatch[mo],\n",
    "                                         PL_IndexLayer[mo], MasterClassification, IndexTable,\n",
    "                                         IndexTable_ClassificationNames, ScriptConfig, Mylog, False)\n",
    "    ParameterDict[PL_Names[mo]] = msc.Parameter(Name=MetaData['Dataset_Name'], ID=MetaData['Dataset_ID'],\n",
    "                                                UUID=MetaData['Dataset_UUID'], P_Res=None, MetaData=MetaData,\n",
    "                                                Indices=PL_IndexStructure[mo], Values=Values, Uncert=None,\n",
    "                                                Unit=MetaData['Dataset_Unit'])\n",
    "    Mylog.info('Current parameter file UUID: ' + MetaData['Dataset_UUID'])\n",
    "    Mylog.info('_')\n",
    "Mylog.info('Reading of parameters finished.')"
   ]
  },
  {
   "cell_type": "markdown",
   "metadata": {},
   "source": [
    "Print some core data elements for info:"
   ]
  },
  {
   "cell_type": "code",
   "execution_count": 43,
   "metadata": {},
   "outputs": [
    {
     "data": {
      "text/plain": [
       "{'Model Setting': 'Tutorial6',\n",
       " 'Name of model setting': 'ODYM_Tutorial6_MaTrace',\n",
       " 'Description': 'Scenario analysis of dispersion of steel into different applications.',\n",
       " 'Name of model script used': 'ODYM_Tutorial_6_MaTrace',\n",
       " 'Version of master classification': 'ODYM_Classifications_Master_Tutorial6_MaTrace',\n",
       " 'Version of ODYM Classes': 'V01',\n",
       " 'Version of ODYM Functions': 'V01',\n",
       " 'Logging_Verbosity': 'DEBUG'}"
      ]
     },
     "execution_count": 43,
     "metadata": {},
     "output_type": "execute_result"
    }
   ],
   "source": [
    "ScriptConfig"
   ]
  },
  {
   "cell_type": "code",
   "execution_count": 44,
   "metadata": {},
   "outputs": [
    {
     "data": {
      "text/plain": [
       "['Environment',\n",
       " 'Use phase',\n",
       " 'EoL products trade',\n",
       " 'Waste mgt. industries',\n",
       " 'Waste_Scrap markets',\n",
       " 'Recycling_Remelting',\n",
       " 'Secondary metal market',\n",
       " 'Manufacturing',\n",
       " 'Product markets']"
      ]
     },
     "execution_count": 44,
     "metadata": {},
     "output_type": "execute_result"
    }
   ],
   "source": [
    "PrL_Name"
   ]
  },
  {
   "cell_type": "markdown",
   "metadata": {},
   "source": [
    "We can now define our MFA system: "
   ]
  },
  {
   "cell_type": "markdown",
   "metadata": {},
   "source": [
    "## 3) Define MFA system\n",
    "This system has a name, a geographical scope, a system-wide unit, a time frame, an index table with all aspects defined, and a list of chemical elements considered.\n"
   ]
  },
  {
   "cell_type": "code",
   "execution_count": 45,
   "metadata": {},
   "outputs": [],
   "source": [
    "MaTrace_System = msc.MFAsystem(Name = 'MaTrace_Steel_Global', \n",
    "                      Geogr_Scope = 'World', \n",
    "                      Unit = 'Mt', \n",
    "                      ProcessList = [], \n",
    "                      FlowDict = {}, \n",
    "                      StockDict = {},\n",
    "                      ParameterDict = ParameterDict, \n",
    "                      Time_Start = Model_Time_Start, \n",
    "                      Time_End = Model_Time_End, \n",
    "                      IndexTable = IndexTable, \n",
    "                      Elements = IndexTable.loc['Element'].Classification.Items) # Initialize MFA system\n",
    "\n",
    "# Add processes to system\n",
    "for m in range(0, len(PrL_Number)):\n",
    "    MaTrace_System.ProcessList.append(msc.Process(Name = PrL_Name[m], ID   = PrL_Number[m]))"
   ]
  },
  {
   "cell_type": "code",
   "execution_count": 46,
   "metadata": {},
   "outputs": [],
   "source": [
    "# Define the flows of the system, and initialise their values:\n",
    "MaTrace_System.FlowDict['F_0_8'] = msc.Flow(Name = 'exogenous final consumption of steel', P_Start = 0, P_End = 8,\n",
    "                                            Indices = 't,g,m,e', Values=None)\n",
    "MaTrace_System.FlowDict['F_8_1'] = msc.Flow(Name = 'final consumption', P_Start = 8, P_End = 1,\n",
    "                                            Indices = 't,g,m,e', Values=None)\n",
    "MaTrace_System.FlowDict['F_1_2'] = msc.Flow(Name = 'EoL products flow', P_Start = 1, P_End = 2,\n",
    "                                            Indices = 't,c,g,m,e', Values=None)\n",
    "MaTrace_System.FlowDict['F_2_3'] = msc.Flow(Name = 'Inflow waste mgt', P_Start = 2, P_End = 3,\n",
    "                                            Indices = 't,c,g,m,e', Values=None)\n",
    "MaTrace_System.FlowDict['F_3_4'] = msc.Flow(Name = 'postconsumer scrap flow', P_Start = 3, P_End = 4,\n",
    "                                            Indices = 't,w,e', Values=None)\n",
    "MaTrace_System.FlowDict['F_3_0'] = msc.Flow(Name = 'recovery loss', P_Start = 3, P_End = 0,\n",
    "                                            Indices = 't,e', Values=None)\n",
    "MaTrace_System.FlowDict['F_7_4'] = msc.Flow(Name = 'fabrication scrap flow', P_Start = 7, P_End = 4,\n",
    "                                            Indices = 't,w,e', Values=None)\n",
    "MaTrace_System.FlowDict['F_4_5'] = msc.Flow(Name = 'scrap flow for remelting', P_Start = 4, P_End = 5,\n",
    "                                            Indices = 't,w,e', Values=None)\n",
    "MaTrace_System.FlowDict['F_5_6'] = msc.Flow(Name = 'secondary metal flow', P_Start = 5, P_End = 6,\n",
    "                                            Indices = 't,m,e', Values=None)\n",
    "MaTrace_System.FlowDict['F_5_0'] = msc.Flow(Name = 'remelting loss', P_Start = 5, P_End = 0,\n",
    "                                            Indices = 't,e', Values=None)\n",
    "MaTrace_System.FlowDict['F_6_7'] = msc.Flow(Name = 'secondary metal to manufacturing', P_Start = 6, P_End = 7,\n",
    "                                            Indices = 't,g,m,e', Values=None)\n",
    "MaTrace_System.FlowDict['F_7_8'] = msc.Flow(Name = 'manufactured goods', P_Start = 7, P_End = 8,\n",
    "                                            Indices = 't,g,m,e', Values=None)\n",
    "\n",
    "MaTrace_System.StockDict['S_1']   = msc.Stock(Name = 'steel stock', P_Res = 1, Type = 0,\n",
    "                                              Indices = 't,c,g,m,e', Values=None)\n",
    "MaTrace_System.StockDict['dS_1']  = msc.Stock(Name = 'steel stock change', P_Res = 1, Type = 1,\n",
    "                                              Indices = 't,g,m,e', Values=None)\n",
    "\n",
    "MaTrace_System.Initialize_FlowValues()  # Assign empty arrays to flows according to dimensions.\n",
    "MaTrace_System.Initialize_StockValues() # Assign empty arrays to flows according to dimensions."
   ]
  },
  {
   "cell_type": "code",
   "execution_count": 47,
   "metadata": {},
   "outputs": [
    {
     "data": {
      "text/plain": [
       "(True, True, True)"
      ]
     },
     "execution_count": 47,
     "metadata": {},
     "output_type": "execute_result"
    }
   ],
   "source": [
    "# Check whether flow value arrays match their indices, etc. See method documentation.\n",
    "MaTrace_System.Consistency_Check() "
   ]
  },
  {
   "cell_type": "markdown",
   "metadata": {},
   "source": [
    "Above you see that all system variables (stocks and flows) have time and element as their aspects, which is a requirement, but that other aspects (good g, material m, waste w) are assigned in a flexible manner in line with the system definition.\n",
    "\n",
    "## 4) Programming a solution of the MFA system\n",
    "Now the system definition is complete, and we can program the model solution, making use of the dynamic_stock_model methods (see also https://github.com/stefanpauliuk/dynamic_stock_model) and a matrix equation.\n",
    "\n",
    "The solution is calculated year-by-year, as for each year, the scrap and recycling flows need to be determined and then the recycling flows are re-inserted as final consumption into the use phase.\n",
    "\n",
    "Simplification: To make an easy year-by-year calculation possible, it is assumed that the outflow from the use phase in the same year as the consumption happened is zero. In other words, the discrete lifetime distribution for scrapping at age 0 is chosen or set to zero: $$ pdf(0) = 0; SF(0) =1 $$."
   ]
  },
  {
   "cell_type": "code",
   "execution_count": 48,
   "metadata": {},
   "outputs": [],
   "source": [
    "# ScenarioSelect to assign the scenario-specific values to the system variables\n",
    "ScSe = 0"
   ]
  },
  {
   "cell_type": "code",
   "execution_count": 49,
   "metadata": {},
   "outputs": [
    {
     "name": "stderr",
     "output_type": "stream",
     "text": [
      "100%|██████████| 4/4 [00:00<00:00, 47.06 sectors/s]\n",
      "100%|██████████| 282/282 [00:06<00:00, 42.85 Year/s]\n"
     ]
    }
   ],
   "source": [
    "# 1) Pre-calculate survival tables to reduce computation time\n",
    "SF_Array = np.zeros((Nc,Nc,Ng)) # survival functions, by year, age-cohort, and good. \n",
    "# PDFs are stored externally because recreating them with scipy.stats is slow.\n",
    "# Build pdf array from lifetime distribution: Probability of survival.\n",
    "for g in tqdm(range(0, Ng), unit = ' sectors',leave = True, position = 0):\n",
    "    lt = {'Type'  : 'LogNormal',\n",
    "          'Mean'  : [MaTrace_System.ParameterDict['ODYM_Tutorial6_Lifetime'].Values[g]],\n",
    "          'StdDev': [MaTrace_System.ParameterDict['ODYM_Tutorial6_Lifetime'].Values[g]]}\n",
    "    SF_Array[:, :, g] = dsm.DynamicStockModel(t = np.arange(0, Nc, 1), lt = lt).compute_sf().copy()\n",
    "    np.fill_diagonal(SF_Array[:, :, g],1) # no outflows from current year, this would break the mass balance in the calculation routine below, as the element composition of the current year is not yet known.\n",
    "    # Those parts of the stock remain in use instead.\n",
    "    \n",
    "# 2) Define the material-element composition of products to convert from \n",
    "# product level (dynamic stock model) to the material and element level.\n",
    "Par_Material_Element_Composition_Products = np.zeros((Nc,Ng,Nm,Ne))\n",
    "\n",
    "# 3) Assign single inflow and convert to system unit: Mt.\n",
    "# modelled consumption of 2020:\n",
    "MaTrace_System.FlowDict['F_0_8'].Values[0,0,:,0]  = MaTrace_System.ParameterDict['ODYM_Tutorial6_SteelConsumption'].Values[ScSe,0,0,:]/1000\n",
    "\n",
    "# Loop over all years until end of model time\n",
    "for t in tqdm(range(0,Nt), unit = ' Year', leave = True, position = 0):\n",
    "    \n",
    "    # 4) Compute the solution of the MaTrace model to map the flow of materials from EoL products to recycled material in new goods for final consumption.\n",
    "    # (in the first year 0, the flow is 0).\n",
    "    # a) Postconsumer scrap\n",
    "    MaTrace_System.FlowDict['F_3_4'].Values[t,:,:] = np.einsum('gmw,cgme->we', \\\n",
    "        MaTrace_System.ParameterDict['ODYM_Tutorial6_EoLRecoveryRate'].Values[ScSe,:,:,:],\\\n",
    "        MaTrace_System.FlowDict['F_2_3'].Values[t,:,:,:,:])\n",
    "    # b) Solve the 'scrap loop' in accordance with the equations listed above.\n",
    "    InHom  = np.einsum('gmW,mg,wm,we->We',MaTrace_System.ParameterDict['ODYM_Tutorial6_FabricationYieldLoss'].Values[ScSe,:,:,:],\\\n",
    "                      MaTrace_System.ParameterDict['ODYM_Tutorial6_SectorSplit'].Values[ScSe,:,:],\\\n",
    "                      MaTrace_System.ParameterDict['ODYM_Tutorial6_RemeltingYield'].Values[ScSe,:,:],\\\n",
    "                      MaTrace_System.FlowDict['F_3_4'].Values[t,:,:])\n",
    "    Matrix = np.eye(Nw) - np.einsum('gmW,mg,wm->Ww',MaTrace_System.ParameterDict['ODYM_Tutorial6_FabricationYieldLoss'].Values[ScSe,:,:,:],\\\n",
    "                      MaTrace_System.ParameterDict['ODYM_Tutorial6_SectorSplit'].Values[ScSe,:,:],\\\n",
    "                      MaTrace_System.ParameterDict['ODYM_Tutorial6_RemeltingYield'].Values[ScSe,:,:])\n",
    "    \n",
    "    MaTrace_System.FlowDict['F_7_4'].Values[t,:,:]   = np.linalg.inv(Matrix).dot(InHom)\n",
    "    # Same as:\n",
    "    # MaTrace_System.FlowDict['F_7_4'].Values[t,:,:  = np.einsum('wW,We->we',np.linalg.inv(Matrix),InHom)\n",
    "    # c) calculate remaining flows from model parameters:\n",
    "    MaTrace_System.FlowDict['F_4_5'].Values[t,:,:]   = MaTrace_System.FlowDict['F_3_4'].Values[t,:,:] + MaTrace_System.FlowDict['F_7_4'].Values[t,:,:]\n",
    "    MaTrace_System.FlowDict['F_5_6'].Values[t,:,:]   = np.einsum('wm,we->me',MaTrace_System.ParameterDict['ODYM_Tutorial6_RemeltingYield'].Values[ScSe,:,:],MaTrace_System.FlowDict['F_4_5'].Values[t,:,:])\n",
    "    MaTrace_System.FlowDict['F_6_7'].Values[t,:,:,:] = np.einsum('mg,me->gme',MaTrace_System.ParameterDict['ODYM_Tutorial6_SectorSplit'].Values[ScSe,:,:],MaTrace_System.FlowDict['F_5_6'].Values[t,:,:])\n",
    "    # d) finally, use the mass balance to compute the outflows:\n",
    "    MaTrace_System.FlowDict['F_3_0'].Values[t,:]     = np.einsum('cgme->e',MaTrace_System.FlowDict['F_2_3'].Values[t,:,:,:,:]) -\\\n",
    "                      np.einsum('we->e',MaTrace_System.FlowDict['F_3_4'].Values[t,:,:])\n",
    "    MaTrace_System.FlowDict['F_5_0'].Values[t,:]     = np.einsum('we->e',MaTrace_System.FlowDict['F_4_5'].Values[t,:,:]) -\\\n",
    "                      np.einsum('me->e',MaTrace_System.FlowDict['F_5_6'].Values[t,:,:])  \n",
    "    FabYield = 1 - np.einsum('gmw->gm',MaTrace_System.ParameterDict['ODYM_Tutorial6_FabricationYieldLoss'].Values[ScSe,:,:,:])\n",
    "    MaTrace_System.FlowDict['F_7_8'].Values[t,:,:,:] = np.einsum('gme,gm->gme',MaTrace_System.FlowDict['F_6_7'].Values[t,:,:,:],\\\n",
    "                      FabYield)        \n",
    "\n",
    "    # 5) Add exogenous final consumption to recycled flows:\n",
    "    MaTrace_System.FlowDict['F_8_1'].Values[t,:,:,:] = MaTrace_System.FlowDict['F_7_8'].Values[t,:,:,:] + MaTrace_System.FlowDict['F_0_8'].Values[t,:,:,:]\n",
    "\n",
    "    # 6) Calculate the material-element composition of products for current age-cohort\n",
    "    for g in range(0,Ng):\n",
    "        if MaTrace_System.FlowDict['F_8_1'].Values[t,g,:,:].sum() != 0:\n",
    "            Par_Material_Element_Composition_Products[t,g,:,:] = MaTrace_System.FlowDict['F_8_1'].Values[t,g,:,:] / MaTrace_System.FlowDict['F_8_1'].Values[t,g,:,:].sum()\n",
    "        \n",
    "    # 7) Define and solve dynamic stock model to calculate next year's outflow\n",
    "    # Create helper DSM for computing the dynamic stock model:\n",
    "    # Here, the mass of the product g is its total mass.\n",
    "    # A lognormal lifetime distribution with mean = stddev is assumed.\n",
    "    for g in range(0,Ng):\n",
    "        DSM_MaTrace = dsm.DynamicStockModel(t = np.arange(0, Nt, 1),\n",
    "                                            i = np.einsum('tme->t',MaTrace_System.FlowDict['F_8_1'].Values[:,g,:,:]),\n",
    "                                           lt = {'Type': 'LogNormal', 'Mean': [MaTrace_System.ParameterDict['ODYM_Tutorial6_Lifetime'].Values[g]],\n",
    "                                             'StdDev': [MaTrace_System.ParameterDict['ODYM_Tutorial6_Lifetime'].Values[g]]})\n",
    "        \n",
    "        # Here, the lt attribute is not used, instead, we assign the pre-calculated SF array:\n",
    "        DSM_MaTrace.sf  = SF_Array[:,:,g]\n",
    "    \n",
    "        Stock_by_cohort = DSM_MaTrace.compute_s_c_inflow_driven()\n",
    "        O_C             = DSM_MaTrace.compute_o_c_from_s_c()\n",
    "        S               = DSM_MaTrace.compute_stock_total()\n",
    "        DS              = DSM_MaTrace.compute_stock_change()\n",
    "        DS_C            = np.zeros(Stock_by_cohort.shape)\n",
    "        DS_C[0,:]       = Stock_by_cohort[0,:]\n",
    "        DS_C[1::,:]     = np.diff(Stock_by_cohort,axis=0)\n",
    "        \n",
    "        # 8) Map flows and stocks at goods level g to materials and elements:\n",
    "        MaTrace_System.FlowDict['F_1_2'].Values[:,:,g,:,:] = np.einsum('tc,cme->tcme',O_C,            Par_Material_Element_Composition_Products[:,g,:,:]).copy()\n",
    "        MaTrace_System.FlowDict['F_2_3'].Values[:,:,g,:,:] = MaTrace_System.FlowDict['F_1_2'].Values[:,:,g,:,:].copy()\n",
    "        MaTrace_System.StockDict[ 'S_1'].Values[:,:,g,:,:] = np.einsum('tc,cme->tcme',Stock_by_cohort,Par_Material_Element_Composition_Products[:,g,:,:]).copy()\n",
    "        MaTrace_System.StockDict['dS_1'].Values[:,g,:,:]   = np.einsum('tc,cme->tme', DS_C,           Par_Material_Element_Composition_Products[:,g,:,:]).copy()\n",
    "        \n",
    "        # NOTE: The computation above is still quite inefficient as many redundant results are generated. \n",
    "        # If speed is an issue, e.g., for MC simulations, the code can be sped up by customizing the dynamic stock model functions to the case at hand\n",
    "        # or directly programming the solution using np.einsum('...',Inflow,SurvivalTable)\n",
    "        # Here, the dynamic stock model library was used because its methods are tested.\n",
    "    \n",
    "#\n",
    "#"
   ]
  },
  {
   "cell_type": "markdown",
   "metadata": {},
   "source": [
    "## 5) Mass-balance-check\n",
    "One major advantage of the ODYM system structure is that mass balance checks can be performed automatically using unit-tested routines without further programming need:"
   ]
  },
  {
   "cell_type": "code",
   "execution_count": 50,
   "metadata": {},
   "outputs": [
    {
     "name": "stdout",
     "output_type": "stream",
     "text": [
      "(282, 9, 1)\n",
      "[[1.70280456e-13]\n",
      " [1.63036251e-13]\n",
      " [0.00000000e+00]\n",
      " [0.00000000e+00]\n",
      " [2.37587727e-14]\n",
      " [0.00000000e+00]\n",
      " [1.99840144e-14]\n",
      " [3.88855614e-14]\n",
      " [0.00000000e+00]]\n"
     ]
    }
   ],
   "source": [
    "Bal = MaTrace_System.MassBalance()\n",
    "print(Bal.shape) # dimensions of balance are: time step x process x chemical element\n",
    "print(np.abs(Bal).sum(axis = 0)) # reports the sum of all absolute balancing errors by process."
   ]
  },
  {
   "cell_type": "markdown",
   "metadata": {},
   "source": [
    "The ODYM mass balance array reports the balance for each chemical element, each year, and each process, including the system balance (process 0).\n",
    "\n",
    "The result shows that both the system processes and the system as a whole are balanced."
   ]
  },
  {
   "cell_type": "markdown",
   "metadata": {},
   "source": [
    "## 6) Research questions and results\n",
    "We now address the research questions. First, we plot the steel stock in the different applications over time (RQ1):"
   ]
  },
  {
   "cell_type": "code",
   "execution_count": 51,
   "metadata": {},
   "outputs": [
    {
     "data": {
      "text/plain": [
       "<matplotlib.legend.Legend at 0x1d05879ff98>"
      ]
     },
     "execution_count": 51,
     "metadata": {},
     "output_type": "execute_result"
    },
    {
     "data": {
<<<<<<< Updated upstream
      "image/png": "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",
=======
      "image/png": "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",
>>>>>>> Stashed changes
      "text/plain": [
       "<Figure size 640x480 with 1 Axes>"
      ]
     },
     "metadata": {},
     "output_type": "display_data"
    }
   ],
   "source": [
    "MyColorCycle = pylab.cm.Paired(np.arange(0,1,0.1)) # select 10 colors from the 'Paired' color map.\n",
    "fig, ax = plt.subplots()\n",
    "ax.plot(MaTrace_System.IndexTable['Classification']['Time'].Items, \n",
    "            np.einsum('tcgme->tg',MaTrace_System.StockDict[ 'S_1'].Values)) \n",
    "ax.set_ylabel('In-use stocks of steel, Mt,',fontsize =16)\n",
    "ax.legend(MaTrace_System.IndexTable['Classification']['Good'].Items, loc='upper right',prop={'size':10})"
   ]
  },
  {
   "cell_type": "markdown",
   "metadata": {},
   "source": [
    "The steel stock in vehicles remains stable for a few years and then quickly declines as the vehicles reach their typical lifetime (ca. 15 years). According to the model parameters (remelting yield), the recovered steel shred from vehicles is down-cycled (cascaded) into construction type steel, which in this dataset is used for both construction and machinery. (To have more realistic depictions of the steel cycle, one can introduce more steel categories, but that also increases the data need). Due to the longer lifetime of steel in construction, steel tends to accumulate there, including steel that was first cascaded into machinery and then into buildings. Ultimately, steel stocks slowly decline due to the recovery and remelting losses that occur every time the steel is remelted into new rebars or steel girders. In remelting alone, ca. 6% of the metal are lost to slag each time, and to reduce both these losses and the associated energy demand, steel can be re-used instead of remelted. The re-use strategy is described in detail in the 2012 book \"Sustainable Materials - With Both Eyes Open\" by Allwood and colleagues (http://www.withbotheyesopen.com/).\n",
    "\n",
    "To answer RQ2, let's plot the total stock as the sum of the four curves above."
   ]
  },
  {
   "cell_type": "code",
   "execution_count": 52,
   "metadata": {},
   "outputs": [
    {
     "data": {
      "text/plain": [
       "<matplotlib.legend.Legend at 0x1d0575f0940>"
      ]
     },
     "execution_count": 52,
     "metadata": {},
     "output_type": "execute_result"
    },
    {
     "data": {
<<<<<<< Updated upstream
      "image/png": "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",
=======
      "image/png": "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",
>>>>>>> Stashed changes
      "text/plain": [
       "<Figure size 640x480 with 1 Axes>"
      ]
     },
     "metadata": {},
     "output_type": "display_data"
    }
   ],
   "source": [
    "plt.set_loglevel(\"info\") \n",
    "\n",
    "HalfLine = 0.5 * MaTrace_System.StockDict[ 'S_1'].Values[0,:,:,:,:].sum()\n",
    "\n",
    "MyColorCycle = pylab.cm.Paired(np.arange(0,1,0.1)) # select 10 colors from the 'Paired' color map.\n",
    "fig, ax = plt.subplots()\n",
    "ax.plot(MaTrace_System.IndexTable['Classification']['Time'].Items, \n",
    "            np.einsum('tcgme->t',MaTrace_System.StockDict[ 'S_1'].Values)) \n",
    "ax.plot(MaTrace_System.IndexTable['Classification']['Time'].Items, \n",
    "            HalfLine * np.ones(len(MaTrace_System.IndexTable['Classification']['Time'].Items)), linestyle = '--') \n",
    "ax.set_ylabel('In-use stock of steel, Mt,',fontsize =16)\n",
    "ax.legend(['All steel products','Half line'], loc='upper right',prop={'size':10})"
   ]
  },
  {
   "cell_type": "markdown",
   "metadata": {},
   "source": [
    "We see that around a bit before the year 2200, ca. 175 years after the initial consumption in 2020, only half of the steel remains in useful applications in the technosphere. The technical half-life of the steel is thus ca. 175 years.\n",
    "Given that the climate impacts of current steel production will persist for much longer, one can conclude that such a metal use pattern is not sustainable.\n",
    "\n",
    "Another question, which is not addressed here, is how tramp elements accumulate in the steel and reduce its quality, especially copper and tin. This topic is addressed by a recent publication by Daehn et al. (2017), DOI 10.1021/acs.est.7b00997.\n",
    "\n",
    "The code here shows how a systematic MFA model can be set up to answer these types of question. This tutorial illustrates the use of the ODYM functions and data format for material tracing questions, its main emphasis is therefore on the technical aspects of the modelling. The questions posed here can be addressed with simpler models, e.g., models based in Excel. Once the approach becomes more detailed, however, e.g., when other elements, scenarios, and multiple regions are included, the hand-wired approaches will quickly reach their limits, and a systematic approach like the one presented here will prove very powerful."
   ]
  },
  {
   "cell_type": "markdown",
   "metadata": {},
   "source": [
    "## 7) Save data and results\n",
    "Save entire system: "
   ]
  },
  {
   "cell_type": "code",
   "execution_count": 53,
   "metadata": {},
   "outputs": [],
   "source": [
    "#pickle.dump( {'MaTrace_System': MaTrace_System}, open( \"Tutorial6_MaTrace_System.p\", \"wb\" ) )"
   ]
  }
 ],
 "metadata": {
  "kernelspec": {
   "display_name": "Python 3",
   "language": "python",
   "name": "python3"
  },
  "language_info": {
   "codemirror_mode": {
    "name": "ipython",
    "version": 3
   },
   "file_extension": ".py",
   "mimetype": "text/x-python",
   "name": "python",
   "nbconvert_exporter": "python",
   "pygments_lexer": "ipython3",
   "version": "3.7.3"
  }
 },
 "nbformat": 4,
 "nbformat_minor": 2
}
