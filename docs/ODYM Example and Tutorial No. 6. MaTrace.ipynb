{
 "cells": [
  {
   "cell_type": "markdown",
   "metadata": {},
   "source": [
    "# ODYM Example no. 6. MaTrace - Tracing material flows through different product lifecycles\n",
    "\n",
    "Industrial ecology knows different system perspectives. Material cycles, product environmental footprints, and product life cycles are ways to explore the connections and interrelation in the industrial system and beyond. Another perspective that is relevant for the study of material cycles is the tracking of materials through different product lifecycles, answering research questions like:\n",
    "\n",
    "+ What is the average number of product life cycles and the average lifetime of a unit of material consumed?\n",
    "+ How big is the contamination of tramp elements in bulk materials over time? \n",
    "+ Where does the material consumed today ultimately end up under different waste management scenarios?\n",
    "\n",
    "To answer these and similar questions, one needs to view material cycles as absorbing Markov Chains (Eckelman and Daigo, 2008, DOI: 10.1016/j.ecolecon.2008.05.020), where material stocks decay over time, and are partly recycled or lost to different types of waste. In the standard setting of dynamic material flow analysis, the use phase is a dynamic stock model with a lifetime distribution and the other material cycle industries are modeled as linear processes with an instantaneous response. For such a setting, the absorbing Markov Chain can be implemented as combination of a dynamic stock model and a matrix equation to solve the rest of the system, and this combination is called MaTrace model (Nakamura et al., 2014, DOI: 10.1021/es500820h) \n",
    "\n",
    "MaTrace has been applied to cover multiple regions (Pauliuk et al., 2017, DOI: 10.1016/j.resconrec.2016.09.029) and chemical elements at once (Nakamura et al., 2017, DOI: 10.1021/acs.est.7b01683). \n",
    "\n",
    "Here, we present a basic implementation of the MaTrace model in Python, using the ODYM framework for dynamic MFA. This model has some overhead regarding data formatting and model initialisation but has the advantage of that it uses tested routines and can be adapted to other cases, including multi-regional questions. The research questions for this ODYM tutorial are:\n",
    "+ \"How is automotive steel consumed currently (2020) dispersed into other applications over time?\"\n",
    "+ \"What is the half-life of automotive steel in the technosphere under current waste handling conditions?\"\n",
    "\n",
    "To answer these questions the system definition is chosen as in the figure below. This figure was adapted from a recent multi-regional study applying MaTrace (Pauliuk et al., 2017, DOI: 10.1016/j.resconrec.2016.09.029) but here, only one global region is considered. The single chemical element covered is iron. The re-use flow F_2_8 as well as obsolete stock formation F_1_1a are not considered here.\n",
    "\n",
    "<img src=\"Images/ODYM_MaTrace_Tutorial.png\" width=\"1000\" height=\"1000\" alt=\"MaTrace system definition\">\n",
    "\n",
    "Here, we will use the multi-element and dynamic stock modelling capabilities of ODYM to address the problem of steel dispersion in the technosphere. Other related issues such as the copper contamination of steel scrap over time, which was recently addressed in a publication by Daehn et al. 2017, DOI 10.1021/acs.est.7b00997, or the fate of steel alloying elements (Nakamura et al., 2017, DOI: 10.1021/acs.est.7b01683), can be studied by extending the current model and database to cover different chemical elements.  \n",
    "\n",
    "ODYM includes the Python class dynamic_stock_modelling for handling the inflow-driven and stock driven model of in-use stocks (http://www.teaching.industrialecology.uni-freiburg.de/  Methods section 3), and the former is applied here and combined with a matrix equation.\n",
    "\n",
    "### ODYM model structure\n",
    "The processes and system variables included are shown in the system definition. We consider the following model aspects for this model:\n",
    "\n",
    "Time: t, 2020-2300\n",
    "Age-cohort: c, 2020-2300\n",
    "Element: e, Fe\n",
    "Unity: 1 (mandatory for all ODYM models but not needed here)\n",
    "Region: r, Global\n",
    "Engineering materials: m: Construction grade steel and Automotive steel\n",
    "Good: g, vehicles, machinery, construction, products and other\n",
    "Waste_Scrap: w, \"Heavy melt, plate, and structural steel scrap\" and \"Steel shred\"\n",
    "Scenario: S, BAU and Efficient\n",
    "\n",
    "Here, only BAU results are calculated but the script can be modified to generate other than the default results.\n",
    "\n",
    "### Dynamic stock model for the use phase\n",
    "Stocks S and outflow O are calculated from apparent final consumption i(t), which is obtained from statistics, cf. DOI 10.1016/j.resconrec.2012.11.008 \n",
    "\n",
    "The model equations are as follows:\n",
    "\n",
    "First, we compute the outflow o_c(t,c) of each historic inflow/age-cohort i(c) in year t as\n",
    "\n",
    "$$o\\_c(t,c) = i(c) \\cdot sf(t,c) $$\n",
    "\n",
    "where sf is the survival function of the age cohort, which is 1-cdf (https://en.wikipedia.org/wiki/Survival_function).\n",
    "\n",
    "The total outflow o(t) in a given year is then\n",
    "\n",
    "$$ o(t) = \\sum_{c\\leq t} o\\_c(t,c)$$\n",
    "\n",
    "The mass balance leads to the stock change $dS$:\n",
    "\n",
    "$$ dS(t) = i(t) - o(t)$$\n",
    "\n",
    "And the stock finally is computed as\n",
    "\n",
    "$$ S(t) = \\sum_{t'\\leq t} ds(t') $$ \n",
    "\n",
    "For the system definition above, we have $i=F_{8\\_1}$, $o = F_{1\\_2}$, and $S = S_{1}$.\n",
    "\n",
    "### Solving the recycling loop\n",
    "A special feature of MaTrace is that its model setup is simple enough that the recycling loop can be solved using a matrix equation despite of the several dimensions present. The crucial assumption for this simplification to work is that for any steel consumption in a given year, there is no outflow in that year, only in the years thereafter. In other words, for the first year of the product lifetime (year 0 in Python counting), there is no decay of stock, and the survival function is 1: SF(age=0) =1. That assumption is unproblematic for long-lived products such as buildings or machinery but does not hold for short-lived applications of steel such as packaging. If the share of packaging and other short-lived application in the overall model flows is significant, the model needs to be changed. Instead of solving the model differently, one can just switch the time interval from 1 year to 1 month or 1 week and rescale the flows accordingly.\n",
    "\n",
    "First, we list the defining equations for the parameters, $\\Gamma(gmw)$ (ODYM_Tutorial6_EoLRecoveryRate), $\\Lambda(gmw)$ (ODYM_Tutorial6_FabricationYieldLoss), $\\Theta(wm)$ (ODYM_Tutorial6_RemeltingYield) and $D(mg)$ (ODYM_Tutorial6_SectorSplit).\n",
    "\n",
    "$$ F_{3\\_4}(twe)=\\sum_{cgm} \\Gamma (gmw) \\cdot F_{2\\_3}(tcgme) $$\n",
    "\n",
    "$$ F_{5\\_6}(tme)=\\sum_{w} \\Theta (wm) \\cdot F_{4\\_5}(twe) $$\n",
    "\n",
    "$$ F_{6\\_7}(tgme)= D (mg) \\cdot F_{5\\_6}(tme) $$\n",
    "\n",
    "$$ F_{7\\_4}(twe)=\\sum_{gm} \\Lambda (gmw) \\cdot F_{6\\_7}(tgme) $$\n",
    "\n",
    "Solving these equations takes a little effort because the fabrication scrap $F_{7\\_4}$ is part of $F_{4\\_5}$:\n",
    "\n",
    "$$F_{4\\_5} = F_{3\\_4} + F_{7\\_4}$$\n",
    "\n",
    "Inserting all parameter definition equations above into the mass balance equation of process 4 leads to the following equation: (The following equation will be solved year-by-year, so that the index t is omitted.)\n",
    "\n",
    "$$ F_{7\\_4}(We) = \\sum_{gmw} \\Lambda (gmW) \\cdot D (mg) \\cdot \\Theta (wm) \\cdot ( F_{3\\_4}(we) + F_{7\\_4}(we)) $$\n",
    "\n",
    "This equation can be solved for $F_{7\\_4}$, where $I$ is the unit matrix, and W,w,m,g,e are indices:\n",
    "\n",
    "$$ \\sum_{w} I(Ww) \\cdot F_{7\\_4}(we) = \\sum_{gmw} \\Lambda (gmW) \\cdot D (mg) \\cdot \\Theta (wm) \\cdot ( F_{3\\_4}(we) + F_{7\\_4}(we)) $$\n",
    "\n",
    "$$ F_{7\\_4}(we) = (I-\\sum_{gm}\\Lambda \\cdot D \\cdot \\Theta)^{-1}(Ww)\\cdot (\\sum_{gm}\\Lambda \\cdot D \\cdot \\Theta)(Ww')\\cdot  F_{3\\_4}(w'e)$$\n",
    "\n",
    "\n",
    "From the equation above, the other variables can now be determined step by step, using the parameter definition equations.\n",
    "\n",
    "With these explanations, we can start with the procedure:\n",
    "\n",
    "## 1) Load ODYM\n"
   ]
  },
  {
   "cell_type": "code",
   "execution_count": 22,
   "metadata": {},
   "outputs": [],
   "source": [
    "# Load a local copy of the current ODYM branch:\n",
    "import sys\n",
    "import os\n",
    "import numpy as np\n",
    "import pandas as pd\n",
    "import matplotlib.pyplot as plt\n",
    "import pickle\n",
    "import openpyxl\n",
    "import pylab\n",
    "from copy import deepcopy\n",
    "import logging as log\n",
    "from tqdm import tqdm\n",
    "\n",
    "# For Ipython Notebook only\n",
    "%matplotlib inline\n",
    "\n",
    "# add ODYM module directory to system path, relative\n",
    "MainPath = os.path.join('..', 'odym', 'modules')\n",
    "sys.path.insert(0, MainPath)\n",
    "\n",
    "# add ODYM module directory to system path, absolute\n",
    "sys.path.insert(0, os.path.join(os.getcwd(),'..', 'odym', 'modules'))\n",
    "\n",
    "# Specify path to dynamic stock model and to datafile, relative\n",
    "DataPath = os.path.join('..', 'docs', 'files')\n",
    "\n",
    "# Specify path to dynamic stock model and to datafile, absolute\n",
    "DataPath = os.path.join(os.getcwd(),'..', 'docs', 'files')\n",
    "\n",
    "import ODYM_Classes as msc # import the ODYM class file\n",
    "import ODYM_Functions as msf # import the ODYM function file\n",
    "import dynamic_stock_model as dsm # import the dynamic stock model library\n",
    "\n",
    "# Initialize loggin routine\n",
    "log_verbosity = eval(\"log.DEBUG\")\n",
    "log_filename  = 'LogFile_ET6.md'\n",
    "[Mylog, console_log, file_log] = msf.function_logger(log_filename, os.getcwd(),\n",
    "                                                     log_verbosity, log_verbosity)\n"
   ]
  },
  {
   "cell_type": "markdown",
   "metadata": {},
   "source": [
    "## 2) Load system classification, index table, and data \n",
    "With the model imported, we cannow set up the system definition. The 'classical' elements of the system definition in MFA include: The processes, flows, and stocks, the material, the region, and the time frame studied. Next to these elements, ODYM features/requires the following elements to be specified:\n",
    "+ The list of chemical elements considered (Fe in this case)\n",
    "+ The classification(s) of the system variables (stocks and flows): Which materials, products, regions, or waste groups are considered? \n",
    "+ An index letter to quickly/directly access a model aspect.\n",
    "+ A dictionary of model parameters.\n",
    "\n",
    "For all these items ODYM has a specific structure, which are coded in the model config file ODYM_Config_Tutorial6.xlsx and read using a set of customized functions."
   ]
  },
  {
   "cell_type": "code",
   "execution_count": 23,
   "metadata": {},
   "outputs": [
    {
     "name": "stderr",
     "output_type": "stream",
     "text": [
      "INFO (1892936247.py <<module>>): Read and parse config table, including the model index table, from model config sheet.\n",
      "INFO (ODYM_Functions.py <ParseConfigFile>): Read parameter list from model config sheet.\n",
      "INFO (ODYM_Functions.py <ParseConfigFile>): Read process list from model config sheet.\n",
      "INFO (ODYM_Functions.py <ParseConfigFile>): Read model run control from model config sheet.\n",
      "INFO (ODYM_Functions.py <ParseConfigFile>): Read model output control from model config sheet.\n"
     ]
    },
    {
     "name": "stdout",
     "output_type": "stream",
     "text": [
      "ODYM_Tutorial6_MaTrace\n"
     ]
    }
   ],
   "source": [
    "#Read main script parameters\n",
    "#Load project-specific config file\n",
    "ProjectSpecs_ConFile = 'ODYM_Config_Tutorial6.xlsx'\n",
    "Model_Configfile     = openpyxl.load_workbook(os.path.join(DataPath, ProjectSpecs_ConFile), data_only=True)\n",
    "ScriptConfig         = {'Model Setting': Model_Configfile['Config'].cell(4,4).value} # Dictionary with config parameters\n",
    "Model_Configsheet    = Model_Configfile['Setting_' + ScriptConfig['Model Setting']]\n",
    "\n",
    "Name_Scenario        = Model_Configsheet.cell(4,4).value\n",
    "print(Name_Scenario)\n",
    "\n",
    "#Read control and selection parameters into dictionary\n",
    "ScriptConfig         = msf.ParseModelControl(Model_Configsheet,ScriptConfig)\n",
    "\n",
    "Mylog.info('Read and parse config table, including the model index table, from model config sheet.')\n",
    "IT_Aspects,IT_Description,IT_Dimension,IT_Classification,IT_Selector,IT_IndexLetter,\\\n",
    "PL_Names,PL_Description,PL_Version,PL_IndexStructure,PL_IndexMatch,PL_IndexLayer,PL_SubFolder,PL_ProxyCode,\\\n",
    "PrL_Number,PrL_Name,PrL_Comment,PrL_Type,ScriptConfig = msf.ParseConfigFile(Model_Configsheet,ScriptConfig,Mylog)    \n",
    "\n",
    "class_filename       = 'ODYM_Classifications_Master_Tutorial6_MaTrace.xlsx'\n",
    "Classfile            = openpyxl.load_workbook(os.path.join(DataPath,class_filename), data_only=True)\n",
    "Classsheet           = Classfile['MAIN_Table']\n",
    "MasterClassification = msf.ParseClassificationFile_Main(Classsheet,Mylog)\n"
   ]
  },
  {
   "cell_type": "markdown",
   "metadata": {},
   "source": [
    "With the code below, the model classifications are created from the info read with msf.ParseClassificationFile_Main.\n",
    "The index table is created with the info read with msf.ParseConfigFile(Model_Configsheet,ScriptConfig,Mylog) ."
   ]
  },
  {
   "cell_type": "code",
   "execution_count": 24,
   "metadata": {},
   "outputs": [
    {
     "name": "stderr",
     "output_type": "stream",
     "text": [
      "INFO (3620152477.py <<module>>): Define model classifications and select items for model classifications according to information provided by config file.\n",
      "INFO (3620152477.py <<module>>): ### 2.2 - Define model index table and parameter dictionary\n",
      "INFO (3620152477.py <<module>>): Define index table dataframe.\n"
     ]
    }
   ],
   "source": [
    "Mylog.info('Define model classifications and select items for model classifications according to information provided by config file.')\n",
    "ModelClassification  = {} # Dict of model classifications\n",
    "for m in range(0,len(IT_Aspects)):\n",
    "    ModelClassification[IT_Aspects[m]] = deepcopy(MasterClassification[IT_Classification[m]])\n",
    "    EvalString = msf.EvalItemSelectString(IT_Selector[m],len(ModelClassification[IT_Aspects[m]].Items))\n",
    "    if EvalString.find(':') > -1: # range of items is taken\n",
    "        RangeStart = int(EvalString[0:EvalString.find(':')])\n",
    "        RangeStop  = int(EvalString[EvalString.find(':')+1::])\n",
    "        ModelClassification[IT_Aspects[m]].Items = ModelClassification[IT_Aspects[m]].Items[RangeStart:RangeStop]           \n",
    "    elif EvalString.find('[') > -1: # selected items are taken\n",
    "        ModelClassification[IT_Aspects[m]].Items = [ModelClassification[IT_Aspects[m]].Items[i] for i in eval(EvalString)]\n",
    "    elif EvalString == 'all':\n",
    "        None\n",
    "    else:\n",
    "        Mylog.error('Item select error for aspect ' + IT_Aspects[m] + ' were found in datafile.')\n",
    "        break\n",
    "\n",
    "# Define model index table and parameter dictionary\n",
    "Mylog.info('### 2.2 - Define model index table and parameter dictionary')\n",
    "Model_Time_Start = int(min(ModelClassification['Time'].Items))\n",
    "Model_Time_End   = int(max(ModelClassification['Time'].Items))\n",
    "Model_Duration   = Model_Time_End - Model_Time_Start + 1\n",
    "\n",
    "Mylog.info('Define index table dataframe.')\n",
    "IndexTable = pd.DataFrame({'Aspect'        : IT_Aspects,  # 'Time' and 'Element' must be present!\n",
    "                           'Description'   : IT_Description,\n",
    "                           'Dimension'     : IT_Dimension,\n",
    "                           'Classification': [ModelClassification[Aspect] for Aspect in IT_Aspects],\n",
    "                           'IndexLetter'   : IT_IndexLetter})  # Unique one letter (upper or lower case) indices to be used later for calculations.\n",
    "\n",
    "# Default indexing of IndexTable, other indices are produced on the fly\n",
    "IndexTable.set_index('Aspect', inplace=True)\n",
    "\n",
    "# Add indexSize to IndexTable:\n",
    "IndexTable['IndexSize'] = pd.Series([len(IndexTable.Classification[i].Items) for i in range(0, len(IndexTable.IndexLetter))],\n",
    "                                    index=IndexTable.index)\n",
    "\n",
    "# list of the classifications used for each indexletter\n",
    "IndexTable_ClassificationNames = [IndexTable.Classification[i].Name for i in range(0, len(IndexTable.IndexLetter))]"
   ]
  },
  {
   "cell_type": "markdown",
   "metadata": {},
   "source": [
    "That dictionary of classifications enters the index table defined for the system. The index table lists all aspects needed and assigns a classification and index letter to each aspect."
   ]
  },
  {
   "cell_type": "code",
   "execution_count": 25,
   "metadata": {},
   "outputs": [
    {
     "data": {
      "text/html": [
       "<div>\n",
       "<style scoped>\n",
       "    .dataframe tbody tr th:only-of-type {\n",
       "        vertical-align: middle;\n",
       "    }\n",
       "\n",
       "    .dataframe tbody tr th {\n",
       "        vertical-align: top;\n",
       "    }\n",
       "\n",
       "    .dataframe thead th {\n",
       "        text-align: right;\n",
       "    }\n",
       "</style>\n",
       "<table border=\"1\" class=\"dataframe\">\n",
       "  <thead>\n",
       "    <tr style=\"text-align: right;\">\n",
       "      <th></th>\n",
       "      <th>Description</th>\n",
       "      <th>Dimension</th>\n",
       "      <th>Classification</th>\n",
       "      <th>IndexLetter</th>\n",
       "      <th>IndexSize</th>\n",
       "    </tr>\n",
       "    <tr>\n",
       "      <th>Aspect</th>\n",
       "      <th></th>\n",
       "      <th></th>\n",
       "      <th></th>\n",
       "      <th></th>\n",
       "      <th></th>\n",
       "    </tr>\n",
       "  </thead>\n",
       "  <tbody>\n",
       "    <tr>\n",
       "      <th>Time</th>\n",
       "      <td>Model time</td>\n",
       "      <td>Time</td>\n",
       "      <td>&lt;ODYM_Classes.Classification object at 0x00000...</td>\n",
       "      <td>t</td>\n",
       "      <td>282</td>\n",
       "    </tr>\n",
       "    <tr>\n",
       "      <th>Age-cohort</th>\n",
       "      <td>Age-cohorts, vintages</td>\n",
       "      <td>Time</td>\n",
       "      <td>&lt;ODYM_Classes.Classification object at 0x00000...</td>\n",
       "      <td>c</td>\n",
       "      <td>282</td>\n",
       "    </tr>\n",
       "    <tr>\n",
       "      <th>Element</th>\n",
       "      <td>chemical elements</td>\n",
       "      <td>Element</td>\n",
       "      <td>&lt;ODYM_Classes.Classification object at 0x00000...</td>\n",
       "      <td>e</td>\n",
       "      <td>1</td>\n",
       "    </tr>\n",
       "    <tr>\n",
       "      <th>Unity</th>\n",
       "      <td>trivial classification, 1 entry only</td>\n",
       "      <td>Unity</td>\n",
       "      <td>&lt;ODYM_Classes.Classification object at 0x00000...</td>\n",
       "      <td>1</td>\n",
       "      <td>1</td>\n",
       "    </tr>\n",
       "    <tr>\n",
       "      <th>Region</th>\n",
       "      <td>Regions used</td>\n",
       "      <td>Region</td>\n",
       "      <td>&lt;ODYM_Classes.Classification object at 0x00000...</td>\n",
       "      <td>r</td>\n",
       "      <td>11</td>\n",
       "    </tr>\n",
       "    <tr>\n",
       "      <th>Engineering materials</th>\n",
       "      <td>Engineering materials considered</td>\n",
       "      <td>Material</td>\n",
       "      <td>&lt;ODYM_Classes.Classification object at 0x00000...</td>\n",
       "      <td>m</td>\n",
       "      <td>2</td>\n",
       "    </tr>\n",
       "    <tr>\n",
       "      <th>Good</th>\n",
       "      <td>Goods and products considered</td>\n",
       "      <td>Material</td>\n",
       "      <td>&lt;ODYM_Classes.Classification object at 0x00000...</td>\n",
       "      <td>g</td>\n",
       "      <td>4</td>\n",
       "    </tr>\n",
       "    <tr>\n",
       "      <th>Waste_Scrap</th>\n",
       "      <td>waste and scrap types considered</td>\n",
       "      <td>Material</td>\n",
       "      <td>&lt;ODYM_Classes.Classification object at 0x00000...</td>\n",
       "      <td>w</td>\n",
       "      <td>2</td>\n",
       "    </tr>\n",
       "    <tr>\n",
       "      <th>Scenario</th>\n",
       "      <td>Scenarios considered</td>\n",
       "      <td>Scenario</td>\n",
       "      <td>&lt;ODYM_Classes.Classification object at 0x00000...</td>\n",
       "      <td>S</td>\n",
       "      <td>2</td>\n",
       "    </tr>\n",
       "  </tbody>\n",
       "</table>\n",
       "</div>"
      ],
      "text/plain": [
       "                                                Description Dimension  \\\n",
       "Aspect                                                                  \n",
       "Time                                             Model time      Time   \n",
       "Age-cohort                            Age-cohorts, vintages      Time   \n",
       "Element                                   chemical elements   Element   \n",
       "Unity                  trivial classification, 1 entry only     Unity   \n",
       "Region                                         Regions used    Region   \n",
       "Engineering materials      Engineering materials considered  Material   \n",
       "Good                          Goods and products considered  Material   \n",
       "Waste_Scrap                waste and scrap types considered  Material   \n",
       "Scenario                               Scenarios considered  Scenario   \n",
       "\n",
       "                                                          Classification  \\\n",
       "Aspect                                                                     \n",
       "Time                   <ODYM_Classes.Classification object at 0x00000...   \n",
       "Age-cohort             <ODYM_Classes.Classification object at 0x00000...   \n",
       "Element                <ODYM_Classes.Classification object at 0x00000...   \n",
       "Unity                  <ODYM_Classes.Classification object at 0x00000...   \n",
       "Region                 <ODYM_Classes.Classification object at 0x00000...   \n",
       "Engineering materials  <ODYM_Classes.Classification object at 0x00000...   \n",
       "Good                   <ODYM_Classes.Classification object at 0x00000...   \n",
       "Waste_Scrap            <ODYM_Classes.Classification object at 0x00000...   \n",
       "Scenario               <ODYM_Classes.Classification object at 0x00000...   \n",
       "\n",
       "                      IndexLetter  IndexSize  \n",
       "Aspect                                        \n",
       "Time                            t        282  \n",
       "Age-cohort                      c        282  \n",
       "Element                         e          1  \n",
       "Unity                           1          1  \n",
       "Region                          r         11  \n",
       "Engineering materials           m          2  \n",
       "Good                            g          4  \n",
       "Waste_Scrap                     w          2  \n",
       "Scenario                        S          2  "
      ]
     },
     "execution_count": 25,
     "metadata": {},
     "output_type": "execute_result"
    }
   ],
   "source": [
    "IndexTable"
   ]
  },
  {
   "cell_type": "code",
   "execution_count": 26,
   "metadata": {},
   "outputs": [],
   "source": [
    "# Define dimension sizes\n",
    "Nt = len(IndexTable.Classification[IndexTable.index.get_loc('Time')].Items)\n",
    "Ne = len(IndexTable.Classification[IndexTable.index.get_loc('Element')].Items)\n",
    "Nc = len(IndexTable.Classification[IndexTable.index.get_loc('Age-cohort')].Items)\n",
    "Ng = len(IndexTable.Classification[IndexTable.index.get_loc('Good')].Items)\n",
    "Nm = len(IndexTable.Classification[IndexTable.index.get_loc('Engineering materials')].Items)\n",
    "Nw = len(IndexTable.Classification[IndexTable.index.get_loc('Waste_Scrap')].Items)"
   ]
  },
  {
   "cell_type": "markdown",
   "metadata": {},
   "source": [
    "With the index table in place, the model parameters can now be read. Note that the parameter ODYM_Tutorial6_SteelConsumption contains steel consumption data for all years from 1700-2100, but here, only the 2020 scenario value for automotive steel is used to answer the research question."
   ]
  },
  {
   "cell_type": "code",
   "execution_count": 27,
   "metadata": {},
   "outputs": [
    {
     "name": "stderr",
     "output_type": "stream",
     "text": [
      "INFO (3100285617.py <<module>>): Reading parameter ODYM_Tutorial6_Lifetime\n",
      "INFO (ODYM_Functions.py <ReadParameterXLSX>): A total of 4 values was read from file for parameter ODYM_Tutorial6_Lifetime.\n",
      "INFO (ODYM_Functions.py <ReadParameterXLSX>): 4.0 of 4 values for parameter ODYM_Tutorial6_Lifetime were assigned.\n",
      "INFO (3100285617.py <<module>>): Current parameter file UUID: 1ad185e8-af42-4ee1-8cc5-2215081de35c\n",
      "INFO (3100285617.py <<module>>): _\n",
      "INFO (3100285617.py <<module>>): Reading parameter ODYM_Tutorial6_SteelConsumption\n"
     ]
    },
    {
     "name": "stdout",
     "output_type": "stream",
     "text": [
      "LIST\n",
      "TABLE\n"
     ]
    },
    {
     "name": "stderr",
     "output_type": "stream",
     "text": [
      "INFO (ODYM_Functions.py <ReadParameterXLSX>): A total of 3208 values was read from file for parameter ODYM_Tutorial6_SteelConsumption.\n",
      "INFO (ODYM_Functions.py <ReadParameterXLSX>): 648.0 of 4512 values for parameter ODYM_Tutorial6_SteelConsumption were assigned.\n",
      "INFO (3100285617.py <<module>>): Current parameter file UUID: 6738f872-8ec9-4ba5-986b-6da947f03289\n",
      "INFO (3100285617.py <<module>>): _\n",
      "INFO (3100285617.py <<module>>): Reading parameter ODYM_Tutorial6_EoLRecoveryRate\n",
      "INFO (ODYM_Functions.py <ReadParameterXLSX>): A total of 8 values was read from file for parameter ODYM_Tutorial6_EoLRecoveryRate.\n",
      "INFO (ODYM_Functions.py <ReadParameterXLSX>): 8.0 of 32 values for parameter ODYM_Tutorial6_EoLRecoveryRate were assigned.\n",
      "INFO (3100285617.py <<module>>): Current parameter file UUID: 6213e899-8367-483a-8d09-a0c0831c22e5\n",
      "INFO (3100285617.py <<module>>): _\n",
      "INFO (3100285617.py <<module>>): Reading parameter ODYM_Tutorial6_FabricationYieldLoss\n",
      "INFO (ODYM_Functions.py <ReadParameterXLSX>): A total of 8 values was read from file for parameter ODYM_Tutorial6_FabricationYieldLoss.\n",
      "INFO (ODYM_Functions.py <ReadParameterXLSX>): 8.0 of 32 values for parameter ODYM_Tutorial6_FabricationYieldLoss were assigned.\n",
      "INFO (3100285617.py <<module>>): Current parameter file UUID: 03175789-dfcb-4448-99b1-1c467b65b3ed\n",
      "INFO (3100285617.py <<module>>): _\n",
      "INFO (3100285617.py <<module>>): Reading parameter ODYM_Tutorial6_RemeltingYield\n",
      "INFO (ODYM_Functions.py <ReadParameterXLSX>): A total of 4 values was read from file for parameter ODYM_Tutorial6_RemeltingYield.\n",
      "INFO (ODYM_Functions.py <ReadParameterXLSX>): 4.0 of 8 values for parameter ODYM_Tutorial6_RemeltingYield were assigned.\n",
      "INFO (3100285617.py <<module>>): Current parameter file UUID: 38ed7154-01c2-4d21-8128-df10bbd150a5\n",
      "INFO (3100285617.py <<module>>): _\n",
      "INFO (3100285617.py <<module>>): Reading parameter ODYM_Tutorial6_SectorSplit\n",
      "INFO (ODYM_Functions.py <ReadParameterXLSX>): A total of 16 values was read from file for parameter ODYM_Tutorial6_SectorSplit.\n",
      "INFO (ODYM_Functions.py <ReadParameterXLSX>): 16.0 of 16 values for parameter ODYM_Tutorial6_SectorSplit were assigned.\n",
      "INFO (3100285617.py <<module>>): Current parameter file UUID: a3e33053-ab7a-4979-be82-d14c6e5eecef\n",
      "INFO (3100285617.py <<module>>): _\n",
      "INFO (3100285617.py <<module>>): Reading of parameters finished.\n"
     ]
    },
    {
     "name": "stdout",
     "output_type": "stream",
     "text": [
      "LIST\n",
      "LIST\n",
      "LIST\n",
      "LIST\n"
     ]
    }
   ],
   "source": [
    "ParameterDict = {}\n",
    "mo_start = 0 # set mo for re-reading a certain parameter\n",
    "for mo in range(mo_start,len(PL_Names)):\n",
    "    #ParPath = os.path.join(os.path.abspath(os.path.join(ProjectSpecs_Path_Main, '.')), 'ODYM_RECC_Database', PL_Version[mo])\n",
    "    ParPath = os.path.join(DataPath, PL_Names[mo] + '_' + PL_Version[mo])\n",
    "    Mylog.info('Reading parameter ' + PL_Names[mo])\n",
    "    # Do not change order of parameters handed over to function!\n",
    "    MetaData, Values = msf.ReadParameterXLSX(ParPath, PL_Names[mo], PL_IndexStructure[mo], PL_IndexMatch[mo],\n",
    "                                         PL_IndexLayer[mo], MasterClassification, IndexTable,\n",
    "                                         IndexTable_ClassificationNames, ScriptConfig, Mylog, False)\n",
    "    ParameterDict[PL_Names[mo]] = msc.Parameter(Name=MetaData['Dataset_Name'], ID=MetaData['Dataset_ID'],\n",
    "                                                UUID=MetaData['Dataset_UUID'], P_Res=None, MetaData=MetaData,\n",
    "                                                Indices=PL_IndexStructure[mo], Values=Values, Uncert=None,\n",
    "                                                Unit=MetaData['Dataset_Unit'])\n",
    "    Mylog.info('Current parameter file UUID: ' + MetaData['Dataset_UUID'])\n",
    "    Mylog.info('_')\n",
    "Mylog.info('Reading of parameters finished.')"
   ]
  },
  {
   "cell_type": "markdown",
   "metadata": {},
   "source": [
    "Print some core data elements for info:"
   ]
  },
  {
   "cell_type": "code",
   "execution_count": 28,
   "metadata": {},
   "outputs": [
    {
     "data": {
      "text/plain": [
       "{'Model Setting': 'Tutorial6',\n",
       " 'Name of model setting': 'ODYM_Tutorial6_MaTrace',\n",
       " 'Description': 'Scenario analysis of dispersion of steel into different applications.',\n",
       " 'Name of model script used': 'ODYM_Tutorial_6_MaTrace',\n",
       " 'Version of master classification': 'ODYM_Classifications_Master_Tutorial6_MaTrace',\n",
       " 'Version of ODYM Classes': 'V01',\n",
       " 'Version of ODYM Functions': 'V01',\n",
       " 'Logging_Verbosity': 'DEBUG'}"
      ]
     },
     "execution_count": 28,
     "metadata": {},
     "output_type": "execute_result"
    }
   ],
   "source": [
    "ScriptConfig"
   ]
  },
  {
   "cell_type": "code",
   "execution_count": 29,
   "metadata": {},
   "outputs": [
    {
     "data": {
      "text/plain": [
       "['Environment',\n",
       " 'Use phase',\n",
       " 'EoL products trade',\n",
       " 'Waste mgt. industries',\n",
       " 'Waste_Scrap markets',\n",
       " 'Recycling_Remelting',\n",
       " 'Secondary metal market',\n",
       " 'Manufacturing',\n",
       " 'Product markets']"
      ]
     },
     "execution_count": 29,
     "metadata": {},
     "output_type": "execute_result"
    }
   ],
   "source": [
    "PrL_Name"
   ]
  },
  {
   "cell_type": "markdown",
   "metadata": {},
   "source": [
    "We can now define our MFA system: "
   ]
  },
  {
   "cell_type": "markdown",
   "metadata": {},
   "source": [
    "## 3) Define MFA system\n",
    "This system has a name, a geographical scope, a system-wide unit, a time frame, an index table with all aspects defined, and a list of chemical elements considered.\n"
   ]
  },
  {
   "cell_type": "code",
   "execution_count": 30,
   "metadata": {},
   "outputs": [],
   "source": [
    "MaTrace_System = msc.MFAsystem(Name = 'MaTrace_Steel_Global', \n",
    "                      Geogr_Scope = 'World', \n",
    "                      Unit = 'Mt', \n",
    "                      ProcessList = [], \n",
    "                      FlowDict = {}, \n",
    "                      StockDict = {},\n",
    "                      ParameterDict = ParameterDict, \n",
    "                      Time_Start = Model_Time_Start, \n",
    "                      Time_End = Model_Time_End, \n",
    "                      IndexTable = IndexTable, \n",
    "                      Elements = IndexTable.loc['Element'].Classification.Items) # Initialize MFA system\n",
    "\n",
    "# Add processes to system\n",
    "for m in range(0, len(PrL_Number)):\n",
    "    MaTrace_System.ProcessList.append(msc.Process(Name = PrL_Name[m], ID   = PrL_Number[m]))"
   ]
  },
  {
   "cell_type": "code",
   "execution_count": 31,
   "metadata": {},
   "outputs": [],
   "source": [
    "# Define the flows of the system, and initialise their values:\n",
    "MaTrace_System.FlowDict['F_0_8'] = msc.Flow(Name = 'exogenous final consumption of steel', P_Start = 0, P_End = 8,\n",
    "                                            Indices = 't,g,m,e', Values=None)\n",
    "MaTrace_System.FlowDict['F_8_1'] = msc.Flow(Name = 'final consumption', P_Start = 8, P_End = 1,\n",
    "                                            Indices = 't,g,m,e', Values=None)\n",
    "MaTrace_System.FlowDict['F_1_2'] = msc.Flow(Name = 'EoL products flow', P_Start = 1, P_End = 2,\n",
    "                                            Indices = 't,c,g,m,e', Values=None)\n",
    "MaTrace_System.FlowDict['F_2_3'] = msc.Flow(Name = 'Inflow waste mgt', P_Start = 2, P_End = 3,\n",
    "                                            Indices = 't,c,g,m,e', Values=None)\n",
    "MaTrace_System.FlowDict['F_3_4'] = msc.Flow(Name = 'postconsumer scrap flow', P_Start = 3, P_End = 4,\n",
    "                                            Indices = 't,w,e', Values=None)\n",
    "MaTrace_System.FlowDict['F_3_0'] = msc.Flow(Name = 'recovery loss', P_Start = 3, P_End = 0,\n",
    "                                            Indices = 't,e', Values=None)\n",
    "MaTrace_System.FlowDict['F_7_4'] = msc.Flow(Name = 'fabrication scrap flow', P_Start = 7, P_End = 4,\n",
    "                                            Indices = 't,w,e', Values=None)\n",
    "MaTrace_System.FlowDict['F_4_5'] = msc.Flow(Name = 'scrap flow for remelting', P_Start = 4, P_End = 5,\n",
    "                                            Indices = 't,w,e', Values=None)\n",
    "MaTrace_System.FlowDict['F_5_6'] = msc.Flow(Name = 'secondary metal flow', P_Start = 5, P_End = 6,\n",
    "                                            Indices = 't,m,e', Values=None)\n",
    "MaTrace_System.FlowDict['F_5_0'] = msc.Flow(Name = 'remelting loss', P_Start = 5, P_End = 0,\n",
    "                                            Indices = 't,e', Values=None)\n",
    "MaTrace_System.FlowDict['F_6_7'] = msc.Flow(Name = 'secondary metal to manufacturing', P_Start = 6, P_End = 7,\n",
    "                                            Indices = 't,g,m,e', Values=None)\n",
    "MaTrace_System.FlowDict['F_7_8'] = msc.Flow(Name = 'manufactured goods', P_Start = 7, P_End = 8,\n",
    "                                            Indices = 't,g,m,e', Values=None)\n",
    "\n",
    "MaTrace_System.StockDict['S_1']   = msc.Stock(Name = 'steel stock', P_Res = 1, Type = 0,\n",
    "                                              Indices = 't,c,g,m,e', Values=None)\n",
    "MaTrace_System.StockDict['dS_1']  = msc.Stock(Name = 'steel stock change', P_Res = 1, Type = 1,\n",
    "                                              Indices = 't,g,m,e', Values=None)\n",
    "\n",
    "MaTrace_System.Initialize_FlowValues()  # Assign empty arrays to flows according to dimensions.\n",
    "MaTrace_System.Initialize_StockValues() # Assign empty arrays to flows according to dimensions."
   ]
  },
  {
   "cell_type": "code",
   "execution_count": 32,
   "metadata": {},
   "outputs": [
    {
     "data": {
      "text/plain": [
       "(True, True, True)"
      ]
     },
     "execution_count": 32,
     "metadata": {},
     "output_type": "execute_result"
    }
   ],
   "source": [
    "# Check whether flow value arrays match their indices, etc. See method documentation.\n",
    "MaTrace_System.Consistency_Check() "
   ]
  },
  {
   "cell_type": "markdown",
   "metadata": {},
   "source": [
    "Above you see that all system variables (stocks and flows) have time and element as their aspects, which is a requirement, but that other aspects (good g, material m, waste w) are assigned in a flexible manner in line with the system definition.\n",
    "\n",
    "## 4) Programming a solution of the MFA system\n",
    "Now the system definition is complete, and we can program the model solution, making use of the dynamic_stock_model methods (see also https://github.com/stefanpauliuk/dynamic_stock_model) and a matrix equation.\n",
    "\n",
    "The solution is calculated year-by-year, as for each year, the scrap and recycling flows need to be determined and then the recycling flows are re-inserted as final consumption into the use phase.\n",
    "\n",
    "Simplification: To make an easy year-by-year calculation possible, it is assumed that the outflow from the use phase in the same year as the consumption happened is zero. In other words, the discrete lifetime distribution for scrapping at age 0 is chosen or set to zero: $$ pdf(0) = 0; SF(0) =1 $$."
   ]
  },
  {
   "cell_type": "code",
   "execution_count": 33,
   "metadata": {},
   "outputs": [],
   "source": [
    "# ScenarioSelect to assign the scenario-specific values to the system variables\n",
    "ScSe = 0"
   ]
  },
  {
   "cell_type": "code",
   "execution_count": 34,
   "metadata": {},
   "outputs": [
    {
     "name": "stderr",
     "output_type": "stream",
     "text": [
      "100%|██████████| 4/4 [00:00<00:00, 51.57 sectors/s]\n",
      "100%|██████████| 282/282 [00:05<00:00, 48.01 Year/s]\n"
     ]
    }
   ],
   "source": [
    "# 1) Pre-calculate survival tables to reduce computation time\n",
    "SF_Array = np.zeros((Nc,Nc,Ng)) # survival functions, by year, age-cohort, and good. \n",
    "# PDFs are stored externally because recreating them with scipy.stats is slow.\n",
    "# Build pdf array from lifetime distribution: Probability of survival.\n",
    "for g in tqdm(range(0, Ng), unit = ' sectors',leave = True, position = 0):\n",
    "    lt = {'Type'  : 'LogNormal',\n",
    "          'Mean'  : [MaTrace_System.ParameterDict['ODYM_Tutorial6_Lifetime'].Values[g]],\n",
    "          'StdDev': [MaTrace_System.ParameterDict['ODYM_Tutorial6_Lifetime'].Values[g]]}\n",
    "    SF_Array[:, :, g] = dsm.DynamicStockModel(t = np.arange(0, Nc, 1), lt = lt).compute_sf().copy()\n",
    "    np.fill_diagonal(SF_Array[:, :, g],1) # no outflows from current year, this would break the mass balance in the calculation routine below, as the element composition of the current year is not yet known.\n",
    "    # Those parts of the stock remain in use instead.\n",
    "    \n",
    "# 2) Define the material-element composition of products to convert from \n",
    "# product level (dynamic stock model) to the material and element level.\n",
    "Par_Material_Element_Composition_Products = np.zeros((Nc,Ng,Nm,Ne))\n",
    "\n",
    "# 3) Assign single inflow and convert to system unit: Mt.\n",
    "# modelled consumption of 2020:\n",
    "MaTrace_System.FlowDict['F_0_8'].Values[0,0,:,0]  = MaTrace_System.ParameterDict['ODYM_Tutorial6_SteelConsumption'].Values[ScSe,0,0,:]/1000\n",
    "\n",
    "# Loop over all years until end of model time\n",
    "for t in tqdm(range(0,Nt), unit = ' Year', leave = True, position = 0):\n",
    "    \n",
    "    # 4) Compute the solution of the MaTrace model to map the flow of materials from EoL products to recycled material in new goods for final consumption.\n",
    "    # (in the first year 0, the flow is 0).\n",
    "    # a) Postconsumer scrap\n",
    "    MaTrace_System.FlowDict['F_3_4'].Values[t,:,:] = np.einsum('gmw,cgme->we', \\\n",
    "        MaTrace_System.ParameterDict['ODYM_Tutorial6_EoLRecoveryRate'].Values[ScSe,:,:,:],\\\n",
    "        MaTrace_System.FlowDict['F_2_3'].Values[t,:,:,:,:])\n",
    "    # b) Solve the 'scrap loop' in accordance with the equations listed above.\n",
    "    InHom  = np.einsum('gmW,mg,wm,we->We',MaTrace_System.ParameterDict['ODYM_Tutorial6_FabricationYieldLoss'].Values[ScSe,:,:,:],\\\n",
    "                      MaTrace_System.ParameterDict['ODYM_Tutorial6_SectorSplit'].Values[ScSe,:,:],\\\n",
    "                      MaTrace_System.ParameterDict['ODYM_Tutorial6_RemeltingYield'].Values[ScSe,:,:],\\\n",
    "                      MaTrace_System.FlowDict['F_3_4'].Values[t,:,:])\n",
    "    Matrix = np.eye(Nw) - np.einsum('gmW,mg,wm->Ww',MaTrace_System.ParameterDict['ODYM_Tutorial6_FabricationYieldLoss'].Values[ScSe,:,:,:],\\\n",
    "                      MaTrace_System.ParameterDict['ODYM_Tutorial6_SectorSplit'].Values[ScSe,:,:],\\\n",
    "                      MaTrace_System.ParameterDict['ODYM_Tutorial6_RemeltingYield'].Values[ScSe,:,:])\n",
    "    \n",
    "    MaTrace_System.FlowDict['F_7_4'].Values[t,:,:]   = np.linalg.inv(Matrix).dot(InHom)\n",
    "    # Same as:\n",
    "    # MaTrace_System.FlowDict['F_7_4'].Values[t,:,:  = np.einsum('wW,We->we',np.linalg.inv(Matrix),InHom)\n",
    "    # c) calculate remaining flows from model parameters:\n",
    "    MaTrace_System.FlowDict['F_4_5'].Values[t,:,:]   = MaTrace_System.FlowDict['F_3_4'].Values[t,:,:] + MaTrace_System.FlowDict['F_7_4'].Values[t,:,:]\n",
    "    MaTrace_System.FlowDict['F_5_6'].Values[t,:,:]   = np.einsum('wm,we->me',MaTrace_System.ParameterDict['ODYM_Tutorial6_RemeltingYield'].Values[ScSe,:,:],MaTrace_System.FlowDict['F_4_5'].Values[t,:,:])\n",
    "    MaTrace_System.FlowDict['F_6_7'].Values[t,:,:,:] = np.einsum('mg,me->gme',MaTrace_System.ParameterDict['ODYM_Tutorial6_SectorSplit'].Values[ScSe,:,:],MaTrace_System.FlowDict['F_5_6'].Values[t,:,:])\n",
    "    # d) finally, use the mass balance to compute the outflows:\n",
    "    MaTrace_System.FlowDict['F_3_0'].Values[t,:]     = np.einsum('cgme->e',MaTrace_System.FlowDict['F_2_3'].Values[t,:,:,:,:]) -\\\n",
    "                      np.einsum('we->e',MaTrace_System.FlowDict['F_3_4'].Values[t,:,:])\n",
    "    MaTrace_System.FlowDict['F_5_0'].Values[t,:]     = np.einsum('we->e',MaTrace_System.FlowDict['F_4_5'].Values[t,:,:]) -\\\n",
    "                      np.einsum('me->e',MaTrace_System.FlowDict['F_5_6'].Values[t,:,:])  \n",
    "    FabYield = 1 - np.einsum('gmw->gm',MaTrace_System.ParameterDict['ODYM_Tutorial6_FabricationYieldLoss'].Values[ScSe,:,:,:])\n",
    "    MaTrace_System.FlowDict['F_7_8'].Values[t,:,:,:] = np.einsum('gme,gm->gme',MaTrace_System.FlowDict['F_6_7'].Values[t,:,:,:],\\\n",
    "                      FabYield)        \n",
    "\n",
    "    # 5) Add exogenous final consumption to recycled flows:\n",
    "    MaTrace_System.FlowDict['F_8_1'].Values[t,:,:,:] = MaTrace_System.FlowDict['F_7_8'].Values[t,:,:,:] + MaTrace_System.FlowDict['F_0_8'].Values[t,:,:,:]\n",
    "\n",
    "    # 6) Calculate the material-element composition of products for current age-cohort\n",
    "    for g in range(0,Ng):\n",
    "        if MaTrace_System.FlowDict['F_8_1'].Values[t,g,:,:].sum() != 0:\n",
    "            Par_Material_Element_Composition_Products[t,g,:,:] = MaTrace_System.FlowDict['F_8_1'].Values[t,g,:,:] / MaTrace_System.FlowDict['F_8_1'].Values[t,g,:,:].sum()\n",
    "        \n",
    "    # 7) Define and solve dynamic stock model to calculate next year's outflow\n",
    "    # Create helper DSM for computing the dynamic stock model:\n",
    "    # Here, the mass of the product g is its total mass.\n",
    "    # A lognormal lifetime distribution with mean = stddev is assumed.\n",
    "    for g in range(0,Ng):\n",
    "        DSM_MaTrace = dsm.DynamicStockModel(t = np.arange(0, Nt, 1),\n",
    "                                            i = np.einsum('tme->t',MaTrace_System.FlowDict['F_8_1'].Values[:,g,:,:]),\n",
    "                                           lt = {'Type': 'LogNormal', 'Mean': [MaTrace_System.ParameterDict['ODYM_Tutorial6_Lifetime'].Values[g]],\n",
    "                                             'StdDev': [MaTrace_System.ParameterDict['ODYM_Tutorial6_Lifetime'].Values[g]]})\n",
    "        \n",
    "        # Here, the lt attribute is not used, instead, we assign the pre-calculated SF array:\n",
    "        DSM_MaTrace.sf  = SF_Array[:,:,g]\n",
    "    \n",
    "        Stock_by_cohort = DSM_MaTrace.compute_s_c_inflow_driven()\n",
    "        O_C             = DSM_MaTrace.compute_o_c_from_s_c()\n",
    "        S               = DSM_MaTrace.compute_stock_total()\n",
    "        DS              = DSM_MaTrace.compute_stock_change()\n",
    "        DS_C            = np.zeros(Stock_by_cohort.shape)\n",
    "        DS_C[0,:]       = Stock_by_cohort[0,:]\n",
    "        DS_C[1::,:]     = np.diff(Stock_by_cohort,axis=0)\n",
    "        \n",
    "        # 8) Map flows and stocks at goods level g to materials and elements:\n",
    "        MaTrace_System.FlowDict['F_1_2'].Values[:,:,g,:,:] = np.einsum('tc,cme->tcme',O_C,            Par_Material_Element_Composition_Products[:,g,:,:]).copy()\n",
    "        MaTrace_System.FlowDict['F_2_3'].Values[:,:,g,:,:] = MaTrace_System.FlowDict['F_1_2'].Values[:,:,g,:,:].copy()\n",
    "        MaTrace_System.StockDict[ 'S_1'].Values[:,:,g,:,:] = np.einsum('tc,cme->tcme',Stock_by_cohort,Par_Material_Element_Composition_Products[:,g,:,:]).copy()\n",
    "        MaTrace_System.StockDict['dS_1'].Values[:,g,:,:]   = np.einsum('tc,cme->tme', DS_C,           Par_Material_Element_Composition_Products[:,g,:,:]).copy()\n",
    "        \n",
    "        # NOTE: The computation above is still quite inefficient as many redundant results are generated. \n",
    "        # If speed is an issue, e.g., for MC simulations, the code can be sped up by customizing the dynamic stock model functions to the case at hand\n",
    "        # or directly programming the solution using np.einsum('...',Inflow,SurvivalTable)\n",
    "        # Here, the dynamic stock model library was used because its methods are tested.\n",
    "    \n",
    "#\n",
    "#"
   ]
  },
  {
   "cell_type": "markdown",
   "metadata": {},
   "source": [
    "## 5) Mass-balance-check\n",
    "One major advantage of the ODYM system structure is that mass balance checks can be performed automatically using unit-tested routines without further programming need:"
   ]
  },
  {
   "cell_type": "code",
   "execution_count": 35,
   "metadata": {},
   "outputs": [
    {
     "name": "stdout",
     "output_type": "stream",
     "text": [
      "(282, 9, 1)\n",
      "[[1.70280456e-13]\n",
      " [1.63036251e-13]\n",
      " [0.00000000e+00]\n",
      " [0.00000000e+00]\n",
      " [2.37587727e-14]\n",
      " [0.00000000e+00]\n",
      " [1.99840144e-14]\n",
      " [3.88855614e-14]\n",
      " [0.00000000e+00]]\n"
     ]
    }
   ],
   "source": [
    "Bal = MaTrace_System.MassBalance()\n",
    "print(Bal.shape) # dimensions of balance are: time step x process x chemical element\n",
    "print(np.abs(Bal).sum(axis = 0)) # reports the sum of all absolute balancing errors by process."
   ]
  },
  {
   "cell_type": "markdown",
   "metadata": {},
   "source": [
    "The ODYM mass balance array reports the balance for each chemical element, each year, and each process, including the system balance (process 0).\n",
    "\n",
    "The result shows that both the system processes and the system as a whole are balanced."
   ]
  },
  {
   "cell_type": "markdown",
   "metadata": {},
   "source": [
    "## 6) Research questions and results\n",
    "We now address the research questions. First, we plot the steel stock in the different applications over time (RQ1):"
   ]
  },
  {
   "cell_type": "code",
   "execution_count": 36,
   "metadata": {},
   "outputs": [
    {
     "data": {
      "text/plain": [
       "<matplotlib.legend.Legend at 0x1ffd39a9128>"
      ]
     },
     "execution_count": 36,
     "metadata": {},
     "output_type": "execute_result"
    },
    {
     "data": {
      "image/png": "[encoded data removed]",
      "text/plain": [
       "<Figure size 640x480 with 1 Axes>"
      ]
     },
     "metadata": {},
     "output_type": "display_data"
    }
   ],
   "source": [
    "MyColorCycle = pylab.cm.Paired(np.arange(0,1,0.1)) # select 10 colors from the 'Paired' color map.\n",
    "fig, ax = plt.subplots()\n",
    "ax.plot(MaTrace_System.IndexTable['Classification']['Time'].Items, \n",
    "            np.einsum('tcgme->tg',MaTrace_System.StockDict[ 'S_1'].Values)) \n",
    "ax.set_ylabel('In-use stocks of steel, Mt,',fontsize =16)\n",
    "ax.legend(MaTrace_System.IndexTable['Classification']['Good'].Items, loc='upper right',prop={'size':10})"
   ]
  },
  {
   "cell_type": "markdown",
   "metadata": {},
   "source": [
    "The steel stock in vehicles remains stable for a few years and then quickly declines as the vehicles reach their typical lifetime (ca. 15 years). According to the model parameters (remelting yield), the recovered steel shred from vehicles is down-cycled (cascaded) into construction type steel, which in this dataset is used for both construction and machinery. (To have more realistic depictions of the steel cycle, one can introduce more steel categories, but that also increases the data need). Due to the longer lifetime of steel in construction, steel tends to accumulate there, including steel that was first cascaded into machinery and then into buildings. Ultimately, steel stocks slowly decline due to the recovery and remelting losses that occur every time the steel is remelted into new rebars or steel girders. In remelting alone, ca. 6% of the metal are lost to slag each time, and to reduce both these losses and the associated energy demand, steel can be re-used instead of remelted. The re-use strategy is described in detail in the 2012 book \"Sustainable Materials - With Both Eyes Open\" by Allwood and colleagues (http://www.withbotheyesopen.com/).\n",
    "\n",
    "To answer RQ2, let's plot the total stock as the sum of the four curves above."
   ]
  },
  {
   "cell_type": "code",
   "execution_count": 37,
   "metadata": {},
   "outputs": [
    {
     "data": {
      "text/plain": [
       "<matplotlib.legend.Legend at 0x1ffd3d81f60>"
      ]
     },
     "execution_count": 37,
     "metadata": {},
     "output_type": "execute_result"
    },
    {
     "data": {
      "image/png": "[encoded data removed]",
      "text/plain": [
       "<Figure size 640x480 with 1 Axes>"
      ]
     },
     "metadata": {},
     "output_type": "display_data"
    }
   ],
   "source": [
    "plt.set_loglevel(\"info\") \n",
    "\n",
    "HalfLine = 0.5 * MaTrace_System.StockDict[ 'S_1'].Values[0,:,:,:,:].sum()\n",
    "\n",
    "MyColorCycle = pylab.cm.Paired(np.arange(0,1,0.1)) # select 10 colors from the 'Paired' color map.\n",
    "fig, ax = plt.subplots()\n",
    "ax.plot(MaTrace_System.IndexTable['Classification']['Time'].Items, \n",
    "            np.einsum('tcgme->t',MaTrace_System.StockDict[ 'S_1'].Values)) \n",
    "ax.plot(MaTrace_System.IndexTable['Classification']['Time'].Items, \n",
    "            HalfLine * np.ones(len(MaTrace_System.IndexTable['Classification']['Time'].Items)), linestyle = '--') \n",
    "ax.set_ylabel('In-use stock of steel, Mt,',fontsize =16)\n",
    "ax.legend(['All steel products','Half line'], loc='upper right',prop={'size':10})"
   ]
  },
  {
   "cell_type": "markdown",
   "metadata": {},
   "source": [
    "We see that around a bit before the year 2200, ca. 175 years after the initial consumption in 2020, only half of the steel remains in useful applications in the technosphere. The technical half-life of the steel is thus ca. 175 years.\n",
    "Given that the climate impacts of current steel production will persist for much longer, one can conclude that such a metal use pattern is not sustainable.\n",
    "\n",
    "Another question, which is not addressed here, is how tramp elements accumulate in the steel and reduce its quality, especially copper and tin. This topic is addressed by a recent publication by Daehn et al. (2017), DOI 10.1021/acs.est.7b00997.\n",
    "\n",
    "The code here shows how a systematic MFA model can be set up to answer these types of question. This tutorial illustrates the use of the ODYM functions and data format for material tracing questions, its main emphasis is therefore on the technical aspects of the modelling. The questions posed here can be addressed with simpler models, e.g., models based in Excel. Once the approach becomes more detailed, however, e.g., when other elements, scenarios, and multiple regions are included, the hand-wired approaches will quickly reach their limits, and a systematic approach like the one presented here will prove very powerful."
   ]
  },
  {
   "cell_type": "markdown",
   "metadata": {},
   "source": [
    "## 7) Save data and results\n",
    "Save entire system: "
   ]
  },
  {
   "cell_type": "code",
   "execution_count": 38,
   "metadata": {},
   "outputs": [],
   "source": [
    "# pickle.dump( {'MaTrace_System': MaTrace_System}, open( \"Tutorial6_MaTrace_System.p\", \"wb\" ) )"
   ]
  }
 ],
 "metadata": {
  "kernelspec": {
   "display_name": "Python 3",
   "language": "python",
   "name": "python3"
  },
  "language_info": {
   "codemirror_mode": {
    "name": "ipython",
    "version": 3
   },
   "file_extension": ".py",
   "mimetype": "text/x-python",
   "name": "python",
   "nbconvert_exporter": "python",
   "pygments_lexer": "ipython3",
   "version": "3.7.3"
  }
 },
 "nbformat": 4,
 "nbformat_minor": 2
}
